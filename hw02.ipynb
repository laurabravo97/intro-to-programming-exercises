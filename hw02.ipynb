{
 "cells": [
  {
   "cell_type": "markdown",
   "metadata": {},
   "source": [
    "# Stop and search in the West Midlands"
   ]
  },
  {
   "cell_type": "markdown",
   "metadata": {},
   "source": [
    "Work through the notebook from beginning to the end.\n",
    "\n",
    "Execute any cells that you are given, and fill in the ones that you need to\n",
    "fill in.\n",
    "\n",
    "You will see the marks for each question in the comments.\n",
    "\n",
    "There are OKpy cells for you to run for many of the questions.  **If the OKpy\n",
    "cells pass, it doesn't mean you have the marks for that question, it only\n",
    "means you are on the right track**.\n",
    "\n",
    "To start, execute the cells below, that:\n",
    "\n",
    "* get the array library Numpy, and\n",
    "* get the standard libraries and settings for plots and\n",
    "* get the [Pandas](https://pandas.pydata.org/) library for data tables (data\n",
    "  frames), and\n",
    "* set up the OKpy tests."
   ]
  },
  {
   "cell_type": "code",
   "execution_count": 1,
   "metadata": {},
   "outputs": [
    {
     "name": "stdout",
     "output_type": "stream",
     "text": [
      "=====================================================================\n",
      "Assignment: Homework 2: stop and search\n",
      "OK, version v1.14.15\n",
      "=====================================================================\n",
      "\n"
     ]
    }
   ],
   "source": [
    "# Don't change this cell; just run it.\n",
    "\n",
    "# Load the standard array library\n",
    "import numpy as np\n",
    "\n",
    "# Load the plotting package\n",
    "import matplotlib.pyplot as plt\n",
    "\n",
    "# Tell plotting package to show plots in the notebook\n",
    "%matplotlib inline\n",
    "\n",
    "# Make plots a little more fancy.\n",
    "plt.style.use('fivethirtyeight')\n",
    "\n",
    "# Load the Pandas library\n",
    "import pandas as pd\n",
    "\n",
    "# The OKpy testing system.\n",
    "from client.api.notebook import Notebook\n",
    "ok = Notebook('hw02.ok')"
   ]
  },
  {
   "cell_type": "markdown",
   "metadata": {},
   "source": [
    "## Ethnicity in the West Midlands"
   ]
  },
  {
   "cell_type": "markdown",
   "metadata": {},
   "source": [
    "We wonder whether the West Midlands police force is, for whatever reason, more\n",
    "likely to stop and search not-white people than white people.   To work out\n",
    "whether this is true, we first have to consider the proportions of white and\n",
    "not-white people in the population.  If 80% of the people that the police stop\n",
    "are black, that sounds like bias, unless 80% of the population are black, in\n",
    "which case they may be treating everyone equally.\n",
    "\n",
    "We need to compare the percentages of the different ethnicities in the West Midlands with the ethnicities of those stopped and searched.\n",
    "\n",
    "Our first task is therefore to find the proportions of each race / ethnicity in the West midlands."
   ]
  },
  {
   "cell_type": "markdown",
   "metadata": {},
   "source": [
    "### Ethnicity data"
   ]
  },
  {
   "cell_type": "markdown",
   "metadata": {},
   "source": [
    "The government publishes\n",
    "[statistics](https://www.ethnicity-facts-figures.service.gov.uk/british-population/national-and-regional-populations/regional-ethnic-diversity/latest)\n",
    "on the percentages of each ethnic group in the regions of England and Wales.\n",
    "\n",
    "Here you are reading the [source data for Areas of England and Wales by\n",
    "ethnicity](https://www.ethnicity-facts-figures.service.gov.uk/british-population/national-and-regional-populations/regional-ethnic-diversity/latest/downloads/areas-of-england-and-wales-by-ethnicity.csv).\n",
    "\n",
    "I downloaded the file `areas-of-england-and-wales-by-ethnicity.csv` from the\n",
    "link above.\n",
    "\n",
    "In what follows, make sure you have this file in the same directory as this\n",
    "notebook.  You should have got the file with the zip archive."
   ]
  },
  {
   "cell_type": "markdown",
   "metadata": {},
   "source": [
    "Execute the following cell to load the data as a Pandas data frame, and then\n",
    "display it."
   ]
  },
  {
   "cell_type": "code",
   "execution_count": 2,
   "metadata": {},
   "outputs": [
    {
     "data": {
      "text/html": [
       "<div>\n",
       "<style scoped>\n",
       "    .dataframe tbody tr th:only-of-type {\n",
       "        vertical-align: middle;\n",
       "    }\n",
       "\n",
       "    .dataframe tbody tr th {\n",
       "        vertical-align: top;\n",
       "    }\n",
       "\n",
       "    .dataframe thead th {\n",
       "        text-align: right;\n",
       "    }\n",
       "</style>\n",
       "<table border=\"1\" class=\"dataframe\">\n",
       "  <thead>\n",
       "    <tr style=\"text-align: right;\">\n",
       "      <th></th>\n",
       "      <th>Standard Ethnicity</th>\n",
       "      <th>Region</th>\n",
       "      <th>%</th>\n",
       "    </tr>\n",
       "  </thead>\n",
       "  <tbody>\n",
       "    <tr>\n",
       "      <td>0</td>\n",
       "      <td>Asian</td>\n",
       "      <td>East</td>\n",
       "      <td>4.8</td>\n",
       "    </tr>\n",
       "    <tr>\n",
       "      <td>1</td>\n",
       "      <td>Asian</td>\n",
       "      <td>East Midlands</td>\n",
       "      <td>6.5</td>\n",
       "    </tr>\n",
       "    <tr>\n",
       "      <td>2</td>\n",
       "      <td>Asian</td>\n",
       "      <td>London</td>\n",
       "      <td>18.5</td>\n",
       "    </tr>\n",
       "    <tr>\n",
       "      <td>3</td>\n",
       "      <td>Asian</td>\n",
       "      <td>North East</td>\n",
       "      <td>2.9</td>\n",
       "    </tr>\n",
       "    <tr>\n",
       "      <td>4</td>\n",
       "      <td>Asian</td>\n",
       "      <td>North West</td>\n",
       "      <td>6.2</td>\n",
       "    </tr>\n",
       "  </tbody>\n",
       "</table>\n",
       "</div>"
      ],
      "text/plain": [
       "  Standard Ethnicity         Region     %\n",
       "0              Asian           East   4.8\n",
       "1              Asian  East Midlands   6.5\n",
       "2              Asian         London  18.5\n",
       "3              Asian     North East   2.9\n",
       "4              Asian     North West   6.2"
      ]
     },
     "execution_count": 2,
     "metadata": {},
     "output_type": "execute_result"
    }
   ],
   "source": [
    "# Don't change this cell; just run it\n",
    "\n",
    "# Load the data from a file in the same directory as the notebook.\n",
    "regions_by_eth = pd.read_csv('areas-of-england-and-wales-by-ethnicity.csv')\n",
    "\n",
    "# Show the first five rows of the data frame in the notebook.\n",
    "regions_by_eth.head()"
   ]
  },
  {
   "cell_type": "markdown",
   "metadata": {},
   "source": [
    "Now your turn.  First get the \"Region\" column of the data frame into its own\n",
    "variable.  A bit further down, you are going to use this to select the \"West\n",
    "Midlands\" rows from this data frame."
   ]
  },
  {
   "cell_type": "code",
   "execution_count": 3,
   "metadata": {},
   "outputs": [
    {
     "data": {
      "text/plain": [
       "0                         East\n",
       "1                East Midlands\n",
       "2                       London\n",
       "3                   North East\n",
       "4                   North West\n",
       "5                   South East\n",
       "6                   South West\n",
       "7                        Wales\n",
       "8                West Midlands\n",
       "9     Yorkshire and The Humber\n",
       "10                        East\n",
       "11               East Midlands\n",
       "12                      London\n",
       "13                  North East\n",
       "14                  North West\n",
       "15                  South East\n",
       "16                  South West\n",
       "17                       Wales\n",
       "18               West Midlands\n",
       "19    Yorkshire and The Humber\n",
       "20                        East\n",
       "21               East Midlands\n",
       "22                      London\n",
       "23                  North East\n",
       "24                  North West\n",
       "25                  South East\n",
       "26                  South West\n",
       "27                       Wales\n",
       "28               West Midlands\n",
       "29    Yorkshire and The Humber\n",
       "30                        East\n",
       "31               East Midlands\n",
       "32                      London\n",
       "33                  North East\n",
       "34                  North West\n",
       "35                  South East\n",
       "36                  South West\n",
       "37                       Wales\n",
       "38               West Midlands\n",
       "39    Yorkshire and The Humber\n",
       "40                        East\n",
       "41               East Midlands\n",
       "42                      London\n",
       "43                  North East\n",
       "44                  North West\n",
       "45                  South East\n",
       "46                  South West\n",
       "47                       Wales\n",
       "48               West Midlands\n",
       "49    Yorkshire and The Humber\n",
       "50                        East\n",
       "51               East Midlands\n",
       "52                      London\n",
       "53                  North East\n",
       "54                  North West\n",
       "55                  South East\n",
       "56                  South West\n",
       "57                       Wales\n",
       "58               West Midlands\n",
       "59    Yorkshire and The Humber\n",
       "Name: Region, dtype: object"
      ]
     },
     "execution_count": 3,
     "metadata": {},
     "output_type": "execute_result"
    }
   ],
   "source": [
    "#- Put the \"Region\" column of the data frame into a new variable \"regions\".\n",
    "#- 2 marks / 100 (total 2 so far)\n",
    "regions = regions_by_eth['Region']\n",
    "# Show the value of regions\n",
    "regions"
   ]
  },
  {
   "cell_type": "markdown",
   "metadata": {},
   "source": [
    "Here is an OKpy test, to see if you are on the right track. Remember - these\n",
    "tests only check whether you are on the right track. If the test passes, it\n",
    "does not mean you have full marks for the question."
   ]
  },
  {
   "cell_type": "code",
   "execution_count": 4,
   "metadata": {},
   "outputs": [
    {
     "name": "stdout",
     "output_type": "stream",
     "text": [
      "~~~~~~~~~~~~~~~~~~~~~~~~~~~~~~~~~~~~~~~~~~~~~~~~~~~~~~~~~~~~~~~~~~~~~\n",
      "Running tests\n",
      "\n",
      "---------------------------------------------------------------------\n",
      "Test summary\n",
      "    Passed: 3\n",
      "    Failed: 0\n",
      "[ooooooooook] 100.0% passed\n",
      "\n"
     ]
    }
   ],
   "source": [
    "# Check answer is on right track.\n",
    "_ = ok.grade('q_1_regions')"
   ]
  },
  {
   "cell_type": "markdown",
   "metadata": {},
   "source": [
    "Make a variable `is_wm` that is a Boolean Series with `True` in the elements\n",
    "corresponding to the \"West Midlands\" and `False` otherwise."
   ]
  },
  {
   "cell_type": "code",
   "execution_count": 5,
   "metadata": {},
   "outputs": [
    {
     "data": {
      "text/plain": [
       "0    False\n",
       "1    False\n",
       "2    False\n",
       "3    False\n",
       "4    False\n",
       "Name: Region, dtype: bool"
      ]
     },
     "execution_count": 5,
     "metadata": {},
     "output_type": "execute_result"
    }
   ],
   "source": [
    "#- 3 marks / 100 (total 5 so far)\n",
    "is_wm = regions == 'West Midlands'\n",
    "# Show first five values of is_wm\n",
    "is_wm.head()"
   ]
  },
  {
   "cell_type": "code",
   "execution_count": 6,
   "metadata": {},
   "outputs": [
    {
     "name": "stdout",
     "output_type": "stream",
     "text": [
      "~~~~~~~~~~~~~~~~~~~~~~~~~~~~~~~~~~~~~~~~~~~~~~~~~~~~~~~~~~~~~~~~~~~~~\n",
      "Running tests\n",
      "\n",
      "---------------------------------------------------------------------\n",
      "Test summary\n",
      "    Passed: 3\n",
      "    Failed: 0\n",
      "[ooooooooook] 100.0% passed\n",
      "\n"
     ]
    }
   ],
   "source": [
    "# Check answer is on right track.\n",
    "_ = ok.grade('q_2_is_wm')"
   ]
  },
  {
   "cell_type": "markdown",
   "metadata": {},
   "source": [
    "Make a new data frame `wm_by_eth` that only contains the rows from\n",
    "`regions_by_eth` that correspond to the West Midlands."
   ]
  },
  {
   "cell_type": "code",
   "execution_count": 7,
   "metadata": {},
   "outputs": [
    {
     "data": {
      "text/html": [
       "<div>\n",
       "<style scoped>\n",
       "    .dataframe tbody tr th:only-of-type {\n",
       "        vertical-align: middle;\n",
       "    }\n",
       "\n",
       "    .dataframe tbody tr th {\n",
       "        vertical-align: top;\n",
       "    }\n",
       "\n",
       "    .dataframe thead th {\n",
       "        text-align: right;\n",
       "    }\n",
       "</style>\n",
       "<table border=\"1\" class=\"dataframe\">\n",
       "  <thead>\n",
       "    <tr style=\"text-align: right;\">\n",
       "      <th></th>\n",
       "      <th>Standard Ethnicity</th>\n",
       "      <th>Region</th>\n",
       "      <th>%</th>\n",
       "    </tr>\n",
       "  </thead>\n",
       "  <tbody>\n",
       "    <tr>\n",
       "      <td>8</td>\n",
       "      <td>Asian</td>\n",
       "      <td>West Midlands</td>\n",
       "      <td>10.8</td>\n",
       "    </tr>\n",
       "    <tr>\n",
       "      <td>18</td>\n",
       "      <td>Black</td>\n",
       "      <td>West Midlands</td>\n",
       "      <td>3.3</td>\n",
       "    </tr>\n",
       "    <tr>\n",
       "      <td>28</td>\n",
       "      <td>Mixed</td>\n",
       "      <td>West Midlands</td>\n",
       "      <td>2.4</td>\n",
       "    </tr>\n",
       "    <tr>\n",
       "      <td>38</td>\n",
       "      <td>White British</td>\n",
       "      <td>West Midlands</td>\n",
       "      <td>79.2</td>\n",
       "    </tr>\n",
       "    <tr>\n",
       "      <td>48</td>\n",
       "      <td>White other</td>\n",
       "      <td>West Midlands</td>\n",
       "      <td>3.6</td>\n",
       "    </tr>\n",
       "    <tr>\n",
       "      <td>58</td>\n",
       "      <td>Other</td>\n",
       "      <td>West Midlands</td>\n",
       "      <td>0.9</td>\n",
       "    </tr>\n",
       "  </tbody>\n",
       "</table>\n",
       "</div>"
      ],
      "text/plain": [
       "   Standard Ethnicity         Region     %\n",
       "8               Asian  West Midlands  10.8\n",
       "18              Black  West Midlands   3.3\n",
       "28              Mixed  West Midlands   2.4\n",
       "38      White British  West Midlands  79.2\n",
       "48        White other  West Midlands   3.6\n",
       "58              Other  West Midlands   0.9"
      ]
     },
     "execution_count": 7,
     "metadata": {},
     "output_type": "execute_result"
    }
   ],
   "source": [
    "#- 5 marks / 100 (total 10 so far)\n",
    "wm_by_eth = regions_by_eth[is_wm]\n",
    "# Display values of wm_by_eth\n",
    "wm_by_eth"
   ]
  },
  {
   "cell_type": "code",
   "execution_count": 8,
   "metadata": {},
   "outputs": [
    {
     "name": "stdout",
     "output_type": "stream",
     "text": [
      "~~~~~~~~~~~~~~~~~~~~~~~~~~~~~~~~~~~~~~~~~~~~~~~~~~~~~~~~~~~~~~~~~~~~~\n",
      "Running tests\n",
      "\n",
      "---------------------------------------------------------------------\n",
      "Test summary\n",
      "    Passed: 3\n",
      "    Failed: 0\n",
      "[ooooooooook] 100.0% passed\n",
      "\n"
     ]
    }
   ],
   "source": [
    "# Check answer is on right track.\n",
    "_ = ok.grade('q_3_wm_by_eth')"
   ]
  },
  {
   "cell_type": "markdown",
   "metadata": {},
   "source": [
    "`wm_by_eth` has percentages of the population, for each ethnicity.  For\n",
    "example, you should see above that the \"White British\" ethnicity is the\n",
    "ethnicity claimed by nearly 80% of the population of the West Midlands.\n",
    "\n",
    "Now you are building up to making a horizontal bar plot of the different\n",
    "ethnicities in the West Midlands.  Start by sorting the data frame, with the\n",
    "most common ethnicity first.\n",
    "\n",
    "Remember, the name of the percent column is `\"%\"` (the percent sign)."
   ]
  },
  {
   "cell_type": "code",
   "execution_count": 9,
   "metadata": {},
   "outputs": [
    {
     "data": {
      "text/html": [
       "<div>\n",
       "<style scoped>\n",
       "    .dataframe tbody tr th:only-of-type {\n",
       "        vertical-align: middle;\n",
       "    }\n",
       "\n",
       "    .dataframe tbody tr th {\n",
       "        vertical-align: top;\n",
       "    }\n",
       "\n",
       "    .dataframe thead th {\n",
       "        text-align: right;\n",
       "    }\n",
       "</style>\n",
       "<table border=\"1\" class=\"dataframe\">\n",
       "  <thead>\n",
       "    <tr style=\"text-align: right;\">\n",
       "      <th></th>\n",
       "      <th>Standard Ethnicity</th>\n",
       "      <th>Region</th>\n",
       "      <th>%</th>\n",
       "    </tr>\n",
       "  </thead>\n",
       "  <tbody>\n",
       "    <tr>\n",
       "      <td>38</td>\n",
       "      <td>White British</td>\n",
       "      <td>West Midlands</td>\n",
       "      <td>79.2</td>\n",
       "    </tr>\n",
       "    <tr>\n",
       "      <td>8</td>\n",
       "      <td>Asian</td>\n",
       "      <td>West Midlands</td>\n",
       "      <td>10.8</td>\n",
       "    </tr>\n",
       "    <tr>\n",
       "      <td>48</td>\n",
       "      <td>White other</td>\n",
       "      <td>West Midlands</td>\n",
       "      <td>3.6</td>\n",
       "    </tr>\n",
       "    <tr>\n",
       "      <td>18</td>\n",
       "      <td>Black</td>\n",
       "      <td>West Midlands</td>\n",
       "      <td>3.3</td>\n",
       "    </tr>\n",
       "    <tr>\n",
       "      <td>28</td>\n",
       "      <td>Mixed</td>\n",
       "      <td>West Midlands</td>\n",
       "      <td>2.4</td>\n",
       "    </tr>\n",
       "    <tr>\n",
       "      <td>58</td>\n",
       "      <td>Other</td>\n",
       "      <td>West Midlands</td>\n",
       "      <td>0.9</td>\n",
       "    </tr>\n",
       "  </tbody>\n",
       "</table>\n",
       "</div>"
      ],
      "text/plain": [
       "   Standard Ethnicity         Region     %\n",
       "38      White British  West Midlands  79.2\n",
       "8               Asian  West Midlands  10.8\n",
       "48        White other  West Midlands   3.6\n",
       "18              Black  West Midlands   3.3\n",
       "28              Mixed  West Midlands   2.4\n",
       "58              Other  West Midlands   0.9"
      ]
     },
     "execution_count": 9,
     "metadata": {},
     "output_type": "execute_result"
    }
   ],
   "source": [
    "#- Make a new data frame \"wm_sorted\" by sorting \"wm_by_eth\"\n",
    "#- by the \"%\" column.  Largest values should come first.\n",
    "#- 5 marks / 100 (total 15 so far)\n",
    "wm_sorted = wm_by_eth.sort_values(['%'], ascending=False)\n",
    "# Display the values of wm_sorted\n",
    "wm_sorted"
   ]
  },
  {
   "cell_type": "code",
   "execution_count": 10,
   "metadata": {},
   "outputs": [
    {
     "name": "stdout",
     "output_type": "stream",
     "text": [
      "~~~~~~~~~~~~~~~~~~~~~~~~~~~~~~~~~~~~~~~~~~~~~~~~~~~~~~~~~~~~~~~~~~~~~\n",
      "Running tests\n",
      "\n",
      "---------------------------------------------------------------------\n",
      "Test summary\n",
      "    Passed: 4\n",
      "    Failed: 0\n",
      "[ooooooooook] 100.0% passed\n",
      "\n"
     ]
    }
   ],
   "source": [
    "# Check answer is on right track.\n",
    "_ = ok.grade('q_4_wm_sorted')"
   ]
  },
  {
   "cell_type": "markdown",
   "metadata": {},
   "source": [
    "Your job is now to display a horizontal bar plot of the percents for each\n",
    "ethnicity.  When you have done this right, you should see the ethnicities\n",
    "listed on the left of the vertical axis, with the least common ethnicity first.\n",
    "The horizontal axis corresponds to percent.  You should see coloured bars going\n",
    "from left to right, with the longest bar at the bottom, corresponding the\n",
    "percentage of \"White British\".\n",
    "\n",
    "*Hint* Use tab completion to investigate the methods contained in\n",
    "`wm_sorted.plot` for a plausible plot type to try."
   ]
  },
  {
   "cell_type": "code",
   "execution_count": 11,
   "metadata": {},
   "outputs": [
    {
     "data": {
      "text/plain": [
       "<matplotlib.axes._subplots.AxesSubplot at 0x2c4934bac08>"
      ]
     },
     "execution_count": 11,
     "metadata": {},
     "output_type": "execute_result"
    },
    {
     "data": {
      "image/png": "[encoded data removed]",
      "text/plain": [
       "<Figure size 432x288 with 1 Axes>"
      ]
     },
     "metadata": {
      "needs_background": "light"
     },
     "output_type": "display_data"
    }
   ],
   "source": [
    "#- 5 marks / 100 (total 20 so far)\n",
    "wm_sorted.plot.barh('Standard Ethnicity')"
   ]
  },
  {
   "cell_type": "markdown",
   "metadata": {},
   "source": [
    "This is a little more difficult.   In the next section of this assignment,\n",
    "you are going to use the value for the percentage of the West Midlands\n",
    "population that is \"White British\".  It is useful to fetch that number and\n",
    "store it in a variable.\n",
    "\n",
    "Try doing that in the next cell.  Run the OKpy test to see if you've got the right answer."
   ]
  },
  {
   "cell_type": "code",
   "execution_count": 12,
   "metadata": {},
   "outputs": [
    {
     "data": {
      "text/plain": [
       "79.2"
      ]
     },
     "execution_count": 12,
     "metadata": {},
     "output_type": "execute_result"
    }
   ],
   "source": [
    "#- Put the West Midlands percentage of \"White British\" into a new variable\n",
    "#- \"wb_pct\".  You will probably need more than one line of code.\n",
    "#- 5 marks / 100 (total 25 so far)\n",
    "ethnicity = wm_by_eth['Standard Ethnicity']\n",
    "is_wb = ethnicity == 'White British'\n",
    "just_wb = wm_by_eth[is_wb]\n",
    "wb_pct = just_wb['%']\n",
    "# Display the value as a floating point number\n",
    "float(wb_pct)\n",
    "\n",
    "# In this case, as the Data Frame is not very long and we actually know the row corresponding to \"White British\" (row 38)\n",
    "# in the West Midlands, we could also use:\n",
    "        # wb_pct = wm_by_eth.at[38, '%']\n",
    "        # wb_pct"
   ]
  },
  {
   "cell_type": "code",
   "execution_count": 13,
   "metadata": {},
   "outputs": [
    {
     "name": "stdout",
     "output_type": "stream",
     "text": [
      "~~~~~~~~~~~~~~~~~~~~~~~~~~~~~~~~~~~~~~~~~~~~~~~~~~~~~~~~~~~~~~~~~~~~~\n",
      "Running tests\n",
      "\n",
      "---------------------------------------------------------------------\n",
      "Test summary\n",
      "    Passed: 2\n",
      "    Failed: 0\n",
      "[ooooooooook] 100.0% passed\n",
      "\n"
     ]
    }
   ],
   "source": [
    "_ = ok.grade('q_6_wb_pct')"
   ]
  },
  {
   "cell_type": "markdown",
   "metadata": {},
   "source": [
    "## Stop and search"
   ]
  },
  {
   "cell_type": "markdown",
   "metadata": {},
   "source": [
    "Now we analyze the stop and search data.  We will compare the stop and search\n",
    "data to the ethnicity proportions we found above.\n",
    "\n",
    "The UK police publish various statistics about their work at\n",
    "<https://data.police.uk/data>.\n",
    "\n",
    "I went to this site, selected \"September 2019\" as the start and end of the\n",
    "\"Date range\", selected \"West Midlands\" in the \"Forces\" panel, unselected\n",
    "\"include crime data\" and \"include outcomes data\", and selected \"include stop\n",
    "and search data\".  Then I downloaded and unpacked the generated zip file, to\n",
    "give the file `2019-09-west-midlands-stop-and-search.csv`.\n",
    "\n",
    "You should make sure you have this file in the same directory as the notebook.   You should have got the file with the zip archive.\n",
    "\n",
    "These are records of all the stop and search incidents by members of the West\n",
    "Midlands police force during September 2019.\n",
    "\n",
    "First load this file as a data frame.  You might want to look at the previous\n",
    "part of the assignment for inspiration."
   ]
  },
  {
   "cell_type": "code",
   "execution_count": 14,
   "metadata": {},
   "outputs": [
    {
     "data": {
      "text/html": [
       "<div>\n",
       "<style scoped>\n",
       "    .dataframe tbody tr th:only-of-type {\n",
       "        vertical-align: middle;\n",
       "    }\n",
       "\n",
       "    .dataframe tbody tr th {\n",
       "        vertical-align: top;\n",
       "    }\n",
       "\n",
       "    .dataframe thead th {\n",
       "        text-align: right;\n",
       "    }\n",
       "</style>\n",
       "<table border=\"1\" class=\"dataframe\">\n",
       "  <thead>\n",
       "    <tr style=\"text-align: right;\">\n",
       "      <th></th>\n",
       "      <th>Type</th>\n",
       "      <th>Date</th>\n",
       "      <th>Part of a policing operation</th>\n",
       "      <th>Policing operation</th>\n",
       "      <th>Latitude</th>\n",
       "      <th>Longitude</th>\n",
       "      <th>Gender</th>\n",
       "      <th>Age range</th>\n",
       "      <th>Self-defined ethnicity</th>\n",
       "      <th>Officer-defined ethnicity</th>\n",
       "      <th>Legislation</th>\n",
       "      <th>Object of search</th>\n",
       "      <th>Outcome</th>\n",
       "      <th>Outcome linked to object of search</th>\n",
       "      <th>Removal of more than just outer clothing</th>\n",
       "    </tr>\n",
       "  </thead>\n",
       "  <tbody>\n",
       "    <tr>\n",
       "      <td>0</td>\n",
       "      <td>Person search</td>\n",
       "      <td>2019-08-31T23:05:00+00:00</td>\n",
       "      <td>NaN</td>\n",
       "      <td>NaN</td>\n",
       "      <td>52.615526</td>\n",
       "      <td>-1.928901</td>\n",
       "      <td>NaN</td>\n",
       "      <td>10-17</td>\n",
       "      <td>White - English/Welsh/Scottish/Northern Irish/...</td>\n",
       "      <td>NaN</td>\n",
       "      <td>Police and Criminal Evidence Act 1984 (section 1)</td>\n",
       "      <td>Offensive weapons</td>\n",
       "      <td>A no further action disposal</td>\n",
       "      <td>NaN</td>\n",
       "      <td>False</td>\n",
       "    </tr>\n",
       "    <tr>\n",
       "      <td>1</td>\n",
       "      <td>Person search</td>\n",
       "      <td>2019-08-31T23:15:00+00:00</td>\n",
       "      <td>NaN</td>\n",
       "      <td>NaN</td>\n",
       "      <td>52.622678</td>\n",
       "      <td>-1.938063</td>\n",
       "      <td>NaN</td>\n",
       "      <td>10-17</td>\n",
       "      <td>White - English/Welsh/Scottish/Northern Irish/...</td>\n",
       "      <td>NaN</td>\n",
       "      <td>Police and Criminal Evidence Act 1984 (section 1)</td>\n",
       "      <td>Offensive weapons</td>\n",
       "      <td>A no further action disposal</td>\n",
       "      <td>NaN</td>\n",
       "      <td>False</td>\n",
       "    </tr>\n",
       "    <tr>\n",
       "      <td>2</td>\n",
       "      <td>Person search</td>\n",
       "      <td>2019-08-31T23:28:00+00:00</td>\n",
       "      <td>NaN</td>\n",
       "      <td>NaN</td>\n",
       "      <td>52.439548</td>\n",
       "      <td>-1.967960</td>\n",
       "      <td>NaN</td>\n",
       "      <td>NaN</td>\n",
       "      <td>White - English/Welsh/Scottish/Northern Irish/...</td>\n",
       "      <td>NaN</td>\n",
       "      <td>Police and Criminal Evidence Act 1984 (section 1)</td>\n",
       "      <td>Article for use in theft</td>\n",
       "      <td>A no further action disposal</td>\n",
       "      <td>NaN</td>\n",
       "      <td>False</td>\n",
       "    </tr>\n",
       "    <tr>\n",
       "      <td>3</td>\n",
       "      <td>Person search</td>\n",
       "      <td>2019-08-31T23:41:00+00:00</td>\n",
       "      <td>NaN</td>\n",
       "      <td>NaN</td>\n",
       "      <td>52.477214</td>\n",
       "      <td>-1.911043</td>\n",
       "      <td>NaN</td>\n",
       "      <td>NaN</td>\n",
       "      <td>Other ethnic group - Not stated</td>\n",
       "      <td>NaN</td>\n",
       "      <td>Misuse of Drugs Act 1971 (section 23)</td>\n",
       "      <td>Controlled drugs</td>\n",
       "      <td>A no further action disposal</td>\n",
       "      <td>NaN</td>\n",
       "      <td>False</td>\n",
       "    </tr>\n",
       "    <tr>\n",
       "      <td>4</td>\n",
       "      <td>Person search</td>\n",
       "      <td>2019-08-31T23:41:00+00:00</td>\n",
       "      <td>NaN</td>\n",
       "      <td>NaN</td>\n",
       "      <td>52.477214</td>\n",
       "      <td>-1.911043</td>\n",
       "      <td>NaN</td>\n",
       "      <td>10-17</td>\n",
       "      <td>White - English/Welsh/Scottish/Northern Irish/...</td>\n",
       "      <td>NaN</td>\n",
       "      <td>Misuse of Drugs Act 1971 (section 23)</td>\n",
       "      <td>Controlled drugs</td>\n",
       "      <td>A no further action disposal</td>\n",
       "      <td>NaN</td>\n",
       "      <td>False</td>\n",
       "    </tr>\n",
       "  </tbody>\n",
       "</table>\n",
       "</div>"
      ],
      "text/plain": [
       "            Type                       Date  Part of a policing operation  \\\n",
       "0  Person search  2019-08-31T23:05:00+00:00                           NaN   \n",
       "1  Person search  2019-08-31T23:15:00+00:00                           NaN   \n",
       "2  Person search  2019-08-31T23:28:00+00:00                           NaN   \n",
       "3  Person search  2019-08-31T23:41:00+00:00                           NaN   \n",
       "4  Person search  2019-08-31T23:41:00+00:00                           NaN   \n",
       "\n",
       "   Policing operation   Latitude  Longitude  Gender Age range  \\\n",
       "0                 NaN  52.615526  -1.928901     NaN     10-17   \n",
       "1                 NaN  52.622678  -1.938063     NaN     10-17   \n",
       "2                 NaN  52.439548  -1.967960     NaN       NaN   \n",
       "3                 NaN  52.477214  -1.911043     NaN       NaN   \n",
       "4                 NaN  52.477214  -1.911043     NaN     10-17   \n",
       "\n",
       "                              Self-defined ethnicity  \\\n",
       "0  White - English/Welsh/Scottish/Northern Irish/...   \n",
       "1  White - English/Welsh/Scottish/Northern Irish/...   \n",
       "2  White - English/Welsh/Scottish/Northern Irish/...   \n",
       "3                    Other ethnic group - Not stated   \n",
       "4  White - English/Welsh/Scottish/Northern Irish/...   \n",
       "\n",
       "  Officer-defined ethnicity  \\\n",
       "0                       NaN   \n",
       "1                       NaN   \n",
       "2                       NaN   \n",
       "3                       NaN   \n",
       "4                       NaN   \n",
       "\n",
       "                                         Legislation  \\\n",
       "0  Police and Criminal Evidence Act 1984 (section 1)   \n",
       "1  Police and Criminal Evidence Act 1984 (section 1)   \n",
       "2  Police and Criminal Evidence Act 1984 (section 1)   \n",
       "3              Misuse of Drugs Act 1971 (section 23)   \n",
       "4              Misuse of Drugs Act 1971 (section 23)   \n",
       "\n",
       "           Object of search                       Outcome  \\\n",
       "0         Offensive weapons  A no further action disposal   \n",
       "1         Offensive weapons  A no further action disposal   \n",
       "2  Article for use in theft  A no further action disposal   \n",
       "3          Controlled drugs  A no further action disposal   \n",
       "4          Controlled drugs  A no further action disposal   \n",
       "\n",
       "  Outcome linked to object of search Removal of more than just outer clothing  \n",
       "0                                NaN                                    False  \n",
       "1                                NaN                                    False  \n",
       "2                                NaN                                    False  \n",
       "3                                NaN                                    False  \n",
       "4                                NaN                                    False  "
      ]
     },
     "execution_count": 14,
     "metadata": {},
     "output_type": "execute_result"
    }
   ],
   "source": [
    "#- Use \"pd.read_csv\" to load\n",
    "#- \"2019-09-west-midlands-stop-and-search.csv\" as a data frame;\n",
    "#- Put the new data frame into a variable \"stop_search\".\n",
    "#- 2 marks / 100 (total 27 so far)\n",
    "stop_search = pd.read_csv('2019-09-west-midlands-stop-and-search.csv')\n",
    "# Display first five rows of the data frame\n",
    "stop_search.head()"
   ]
  },
  {
   "cell_type": "code",
   "execution_count": 15,
   "metadata": {},
   "outputs": [
    {
     "name": "stdout",
     "output_type": "stream",
     "text": [
      "~~~~~~~~~~~~~~~~~~~~~~~~~~~~~~~~~~~~~~~~~~~~~~~~~~~~~~~~~~~~~~~~~~~~~\n",
      "Running tests\n",
      "\n",
      "---------------------------------------------------------------------\n",
      "Test summary\n",
      "    Passed: 3\n",
      "    Failed: 0\n",
      "[ooooooooook] 100.0% passed\n",
      "\n"
     ]
    }
   ],
   "source": [
    "_ = ok.grade('q_7_stop_search')"
   ]
  },
  {
   "cell_type": "markdown",
   "metadata": {},
   "source": [
    "We are particularly interested in two columns - `Self-defined ethnicity` and\n",
    "`Outcome`.\n",
    "\n",
    "We need to compare the percentages of the different ethnicities in the West Midlands with the ethnicities of those stopped and searched.\n",
    "\n",
    "We are about to see that is a problem, because the categories in this table are not quite the same as the categories in the demographic data you analyzed in the previous section."
   ]
  },
  {
   "cell_type": "code",
   "execution_count": 16,
   "metadata": {},
   "outputs": [
    {
     "data": {
      "text/plain": [
       "0    White - English/Welsh/Scottish/Northern Irish/...\n",
       "1    White - English/Welsh/Scottish/Northern Irish/...\n",
       "2    White - English/Welsh/Scottish/Northern Irish/...\n",
       "3                      Other ethnic group - Not stated\n",
       "4    White - English/Welsh/Scottish/Northern Irish/...\n",
       "Name: Self-defined ethnicity, dtype: object"
      ]
     },
     "execution_count": 16,
     "metadata": {},
     "output_type": "execute_result"
    }
   ],
   "source": [
    "#- Make a new variable \"ethnicity\" that has the values from\n",
    "#- the \"Self-defined ethnicity\" column of \"stop_search\".\n",
    "#- 2 marks / 100 (total 29 so far)\n",
    "ethnicity = stop_search['Self-defined ethnicity']\n",
    "# Display the first five values of ethnicity\n",
    "ethnicity.head()"
   ]
  },
  {
   "cell_type": "code",
   "execution_count": 17,
   "metadata": {},
   "outputs": [
    {
     "name": "stdout",
     "output_type": "stream",
     "text": [
      "~~~~~~~~~~~~~~~~~~~~~~~~~~~~~~~~~~~~~~~~~~~~~~~~~~~~~~~~~~~~~~~~~~~~~\n",
      "Running tests\n",
      "\n",
      "---------------------------------------------------------------------\n",
      "Test summary\n",
      "    Passed: 3\n",
      "    Failed: 0\n",
      "[ooooooooook] 100.0% passed\n",
      "\n"
     ]
    }
   ],
   "source": [
    "# Check you are on the right track.\n",
    "_ = ok.grade('q_8_ethnicity')"
   ]
  },
  {
   "cell_type": "markdown",
   "metadata": {},
   "source": [
    "If you run the cell below, you should see that `ethnicity` is a Pandas\n",
    "`Series` type.  That is the type Pandas uses to contain columns of data."
   ]
  },
  {
   "cell_type": "code",
   "execution_count": 18,
   "metadata": {},
   "outputs": [
    {
     "data": {
      "text/plain": [
       "pandas.core.series.Series"
      ]
     },
     "execution_count": 18,
     "metadata": {},
     "output_type": "execute_result"
    }
   ],
   "source": [
    "type(ethnicity)"
   ]
  },
  {
   "cell_type": "markdown",
   "metadata": {},
   "source": [
    "The `ethnicity` series has the recorded ethnicities for each person who\n",
    "suffered a stop and search.  We would like to see all the different\n",
    "ethnicities, with a count of how many times they appear.\n",
    "\n",
    "Use the `value_counts` method of `ethnicity` to store the unique values in\n",
    "`ethnicity`, along with the number of times these values occur.  Put the results into the variable `eth_counts`."
   ]
  },
  {
   "cell_type": "code",
   "execution_count": 19,
   "metadata": {},
   "outputs": [
    {
     "data": {
      "text/plain": [
       "White - English/Welsh/Scottish/Northern Irish/British                                   680\n",
       "Asian/Asian British - Pakistani                                                         332\n",
       "Black/African/Caribbean/Black British - Caribbean                                       153\n",
       "Asian/Asian British - Indian                                                            109\n",
       "White - Any other White background                                                      108\n",
       "Other ethnic group - Not stated                                                         106\n",
       "Mixed/Multiple ethnic groups - White and Black Caribbean                                 85\n",
       "Black/African/Caribbean/Black British - African                                          84\n",
       "Asian/Asian British - Any other Asian background                                         80\n",
       "Black/African/Caribbean/Black British - Any other Black/African/Caribbean background     40\n",
       "Asian/Asian British - Bangladeshi                                                        33\n",
       "Mixed/Multiple ethnic groups - Any other Mixed/Multiple ethnic background                24\n",
       "Mixed/Multiple ethnic groups - White and Asian                                           20\n",
       "Mixed/Multiple ethnic groups - White and Black African                                   20\n",
       "White - Irish                                                                            12\n",
       "Name: Self-defined ethnicity, dtype: int64"
      ]
     },
     "execution_count": 19,
     "metadata": {},
     "output_type": "execute_result"
    }
   ],
   "source": [
    "#- 3 marks / 100 (total 32 so far)\n",
    "eth_counts = ethnicity.value_counts()\n",
    "# Show the values\n",
    "eth_counts"
   ]
  },
  {
   "cell_type": "code",
   "execution_count": 20,
   "metadata": {},
   "outputs": [
    {
     "name": "stdout",
     "output_type": "stream",
     "text": [
      "~~~~~~~~~~~~~~~~~~~~~~~~~~~~~~~~~~~~~~~~~~~~~~~~~~~~~~~~~~~~~~~~~~~~~\n",
      "Running tests\n",
      "\n",
      "---------------------------------------------------------------------\n",
      "Test summary\n",
      "    Passed: 3\n",
      "    Failed: 0\n",
      "[ooooooooook] 100.0% passed\n",
      "\n"
     ]
    }
   ],
   "source": [
    "# Check you are on the right track.\n",
    "_ = ok.grade('q_9_eth_counts')"
   ]
  },
  {
   "cell_type": "markdown",
   "metadata": {},
   "source": [
    "Compare these ethnicity labels to the ones in the previous section.  They do\n",
    "not correspond exactly.  We need to recode the ethnicities recorded in this\n",
    "column to match those in the previous section.\n",
    "\n",
    "To do this, we can use a recoding function.  That is a little more advanced\n",
    "than the course so far, so next few cells do the recoding for you.\n",
    "\n",
    "First I write my own function, that takes a single argument `value`.  `value`\n",
    "will be a single ethnicity from the `ethnicity` series above.  It returns my\n",
    "best guess at the corresponding ethnicity from the demographics data in the\n",
    "previous section.  For example, I guess that both of the  \"White - English\n",
    "...\" and \"White - Irish\" ethnicities in the series correspond to the \"White\n",
    "British\" category in the demographics table from the previous section.\n",
    "\n",
    "Do not worry about the details of this function, just run the cell below to\n",
    "define it."
   ]
  },
  {
   "cell_type": "code",
   "execution_count": 21,
   "metadata": {},
   "outputs": [],
   "source": [
    "# A function to recode ethnicity.\n",
    "# Run this cell to define the function.\n",
    "def recode_eth(value):\n",
    "    \"\"\" Recode ethnicity values to match standard\n",
    "\n",
    "    Accept ethnicity string as used in \"Self-defined ethnicity\".\n",
    "    Return matching ethnicity used by the government statistics\n",
    "    on ethnicity.\n",
    "    \"\"\"\n",
    "    if pd.isna(value):  # Missing value\n",
    "        return np.nan\n",
    "    if value.startswith('Asian'):\n",
    "        return 'Asian'\n",
    "    if value.startswith('Mixed'):\n",
    "        return 'Mixed'\n",
    "    if value.startswith('Black'):\n",
    "        return 'Black'\n",
    "    if value.startswith('White - English'):\n",
    "        return 'White British'\n",
    "    if value.startswith('White - Irish'):\n",
    "        return 'White British'\n",
    "    if value.startswith('White - Any other'):\n",
    "        return 'White other'\n",
    "    if value.startswith('Other ethnic group'):\n",
    "        return 'Other'\n",
    "    # If we didn't already return something, stop here\n",
    "    # with an error.\n",
    "    raise ValueError('Did not expect ethnicity ' + value)"
   ]
  },
  {
   "cell_type": "markdown",
   "metadata": {},
   "source": [
    "The next couple of cells are just to show how the encoding function works. I\n",
    "call the function on a couple of the values that appear in the `ethnicity`\n",
    "series from the stop and search data."
   ]
  },
  {
   "cell_type": "code",
   "execution_count": 22,
   "metadata": {},
   "outputs": [
    {
     "data": {
      "text/plain": [
       "'Asian'"
      ]
     },
     "execution_count": 22,
     "metadata": {},
     "output_type": "execute_result"
    }
   ],
   "source": [
    "# Run this cell.\n",
    "# Show example of the recoding function in action\n",
    "recode_eth('Asian/Asian British - Indian')"
   ]
  },
  {
   "cell_type": "code",
   "execution_count": 23,
   "metadata": {},
   "outputs": [
    {
     "data": {
      "text/plain": [
       "'White British'"
      ]
     },
     "execution_count": 23,
     "metadata": {},
     "output_type": "execute_result"
    }
   ],
   "source": [
    "# Run this cell.\n",
    "# Another example\n",
    "recode_eth('White - Irish')"
   ]
  },
  {
   "cell_type": "markdown",
   "metadata": {},
   "source": [
    "Last in this recoding sequence of cells, run this cell to \"apply\" the\n",
    "`recode_eth` function above to all the values in the `ethnicity` series in\n",
    "turn.  This returns a new series of the same length as `ethnicity`, but with\n",
    "the recoded values."
   ]
  },
  {
   "cell_type": "code",
   "execution_count": 24,
   "metadata": {},
   "outputs": [
    {
     "data": {
      "text/plain": [
       "0    White British\n",
       "1    White British\n",
       "2    White British\n",
       "3            Other\n",
       "4    White British\n",
       "Name: Self-defined ethnicity, dtype: object"
      ]
     },
     "execution_count": 24,
     "metadata": {},
     "output_type": "execute_result"
    }
   ],
   "source": [
    "# Run this cell to use the \"apply\" method of \"ethnicity\",\n",
    "# and the \"recode_eth\" function above, to make a new variable\n",
    "# \"recoded_eth\".  This has the ethnicity values recoded to the\n",
    "# form used in the UK government demographics.\n",
    "recoded_eth = ethnicity.apply(recode_eth)\n",
    "# Display the first give values of \"recoded_eth\"\n",
    "recoded_eth.head()"
   ]
  },
  {
   "cell_type": "markdown",
   "metadata": {},
   "source": [
    "If you have run the cells above, you now have a new series called `recoded_eth`, with the recoded ethnicity values for each stop and search incident.\n",
    "\n",
    "Just to check, calculate the unique values in this new series, and the number\n",
    "of times each value appears."
   ]
  },
  {
   "cell_type": "code",
   "execution_count": 25,
   "metadata": {},
   "outputs": [
    {
     "data": {
      "text/plain": [
       "White British    692\n",
       "Asian            554\n",
       "Black            277\n",
       "Mixed            149\n",
       "White other      108\n",
       "Other            106\n",
       "Name: Self-defined ethnicity, dtype: int64"
      ]
     },
     "execution_count": 25,
     "metadata": {},
     "output_type": "execute_result"
    }
   ],
   "source": [
    "#- Make a new variable \"recoded_eth_counts\" that has the unique values of\n",
    "#- \"recoded_eth\", and their counts.\n",
    "#- 2 marks / 100 (total 34 so far)\n",
    "recoded_eth_counts = recoded_eth.value_counts()\n",
    "# Show the values of \"recoded_eth_counts\"\n",
    "recoded_eth_counts"
   ]
  },
  {
   "cell_type": "code",
   "execution_count": 26,
   "metadata": {},
   "outputs": [
    {
     "name": "stdout",
     "output_type": "stream",
     "text": [
      "~~~~~~~~~~~~~~~~~~~~~~~~~~~~~~~~~~~~~~~~~~~~~~~~~~~~~~~~~~~~~~~~~~~~~\n",
      "Running tests\n",
      "\n",
      "---------------------------------------------------------------------\n",
      "Test summary\n",
      "    Passed: 3\n",
      "    Failed: 0\n",
      "[ooooooooook] 100.0% passed\n",
      "\n"
     ]
    }
   ],
   "source": [
    "# Check you are on the right track.\n",
    "_ = ok.grade('q_10_recoded_eth_counts')"
   ]
  },
  {
   "cell_type": "markdown",
   "metadata": {},
   "source": [
    "The counts in `recoded_eth_counts` are the total number of people from each\n",
    "ethnicity that were stopped and searched by the West Midlands police.  We want\n",
    "to compare these counts, by eye, using a horizontal bar graph.\n",
    "\n",
    "If you get the graph right, you should see the recoded ethnicities listed to\n",
    "the left of the vertical axis. The horizontal axis corresponds to the counts\n",
    "for every ethnicity.  You should see the more common ethnicities (ethnicities\n",
    "with higher counts) appear at the bottom.\n",
    "\n",
    "Be careful - here you are about to use one of the `plot.` methods of the\n",
    "`recoded_eth_counts` *series*.  In the earlier section, you may have used a\n",
    "`plot.` method of a *data frame*.   These are not quite the same.  For example,\n",
    "in a data frame, we have to tell the method which columns to use for the plot.\n",
    "For the series, there is only one column, so the method will not need the same\n",
    "information.  You can check what information the method needs by making a new\n",
    "cell and running `recoded_eth_counts.plot.eg_method?` to show the help for your\n",
    "method (replace `eg_method` by the name of the method you are using)."
   ]
  },
  {
   "cell_type": "code",
   "execution_count": 27,
   "metadata": {},
   "outputs": [
    {
     "data": {
      "text/plain": [
       "<matplotlib.axes._subplots.AxesSubplot at 0x2c4934d8188>"
      ]
     },
     "execution_count": 27,
     "metadata": {},
     "output_type": "execute_result"
    },
    {
     "data": {
      "image/png": "[encoded data removed]",
      "text/plain": [
       "<Figure size 432x288 with 1 Axes>"
      ]
     },
     "metadata": {
      "needs_background": "light"
     },
     "output_type": "display_data"
    }
   ],
   "source": [
    "#- Use a \"plot.\" method of \"recoded_eth_counts\" to show a\n",
    "#- horizontal bar chart of the counts for each ethnicity.\n",
    "#- The ethnicity should display on the vertical axis\n",
    "#- and the count on the horizontal axis.\n",
    "#- 3 marks / 100 (total 37 so far)\n",
    "recoded_eth_counts.plot.barh()"
   ]
  },
  {
   "cell_type": "markdown",
   "metadata": {},
   "source": [
    "We need to pay attention to missing values. A few cells above, you display the\n",
    "contents of the `recoded_eth` series.  You may have noticed that some of the\n",
    "values are `NaN` or Not A Number.  This is a stop and search for which the\n",
    "police officer did not record a \"Self-defined ethnicity\".\n",
    "\n",
    "That is going to be a problem for us later on, because we can only analyze the\n",
    "stop and search incidents for the ethnicities that were recorded.\n",
    "\n",
    "First we need to check how many of values in `recoded_eth` are valid - that is, how many values there are that are not `NaN`.  We can get this by using the `count` method of the series, to return the count of not-NaN values."
   ]
  },
  {
   "cell_type": "code",
   "execution_count": 28,
   "metadata": {},
   "outputs": [
    {
     "data": {
      "text/plain": [
       "1886"
      ]
     },
     "execution_count": 28,
     "metadata": {},
     "output_type": "execute_result"
    }
   ],
   "source": [
    "#- Make a new variable \"n_valid_eth\" that has the total number of recoded\n",
    "#- ethnicity values that are not missing (NaN).\n",
    "#- 3 marks / 100 (total 40 so far)\n",
    "n_valid_eth = recoded_eth.count()\n",
    "# Show the value of \"n_valid_eth\"\n",
    "n_valid_eth"
   ]
  },
  {
   "cell_type": "code",
   "execution_count": 29,
   "metadata": {},
   "outputs": [
    {
     "name": "stdout",
     "output_type": "stream",
     "text": [
      "~~~~~~~~~~~~~~~~~~~~~~~~~~~~~~~~~~~~~~~~~~~~~~~~~~~~~~~~~~~~~~~~~~~~~\n",
      "Running tests\n",
      "\n",
      "---------------------------------------------------------------------\n",
      "Test summary\n",
      "    Passed: 3\n",
      "    Failed: 0\n",
      "[ooooooooook] 100.0% passed\n",
      "\n"
     ]
    }
   ],
   "source": [
    "# Check you are on the right track.\n",
    "_ = ok.grade('q_12_valid_eth')"
   ]
  },
  {
   "cell_type": "markdown",
   "metadata": {},
   "source": [
    "## Testing for racial bias in stop and search"
   ]
  },
  {
   "cell_type": "markdown",
   "metadata": {},
   "source": [
    "Now we want to work out whether the number of \"White - British\" people who\n",
    "were stopped and searched is compatible with the following model:\n",
    "\n",
    "**Model**: *Any person in the West Midlands has an equal chance of being\n",
    "stopped and searched, regardless of their ethnicity.*\n",
    "\n",
    "As we saw from the analysis of government ethnicity data, 79.2 percent of the\n",
    "West Midlands population is \"White British\".\n",
    "\n",
    "Therefore, our model says that every person who is stopped and searched has a\n",
    "79\\.2 percent chance of being \"White British\".\n",
    "\n",
    "Is that model compatible with the data that we actually see?\n",
    "\n",
    "In the next few cells, you do a simulation to find out."
   ]
  },
  {
   "cell_type": "markdown",
   "metadata": {},
   "source": [
    "As for the other simulations we have done, we start with some random numbers.\n",
    "We will use these to simulate whether the person stopped is \"White British\" or\n",
    "not.  We will simulate 10000 months of stop and search incidents, where each month has `n_valid_eth` incidents.\n",
    "\n",
    "We start by simulating one month.\n",
    "\n",
    "You need `n_valid_eth` *random incidents* for one month.\n",
    "\n",
    "A random incident is a stop and search incident that has a 79.2 percent chance\n",
    "of being True (for White British person stopped), and a 20.8 percent chance of\n",
    "being False (for non-White British person stopped).\n",
    "\n",
    "Here is the result of a simulation for a single month.  Notice we us `np.random.uniform` to give us `n_valid_eth` random numbers between 0 and 1, and we use those to get a 0.792 chance of a True value."
   ]
  },
  {
   "cell_type": "code",
   "execution_count": 30,
   "metadata": {},
   "outputs": [
    {
     "data": {
      "text/plain": [
       "1513"
      ]
     },
     "execution_count": 30,
     "metadata": {},
     "output_type": "execute_result"
    }
   ],
   "source": [
    "# Simulation of a single month of stop-search incidents\n",
    "randoms = np.random.uniform(0, 1, n_valid_eth)\n",
    "wb_incidents = np.count_nonzero(randoms < 0.792)\n",
    "wb_incidents"
   ]
  },
  {
   "cell_type": "markdown",
   "metadata": {},
   "source": [
    "Now for your simulation.  Use this simulation for one month to do simulations for 10000 months.  Store the results of the `wb_incidents` count for each of these 10000 months in an array called `white_counts`."
   ]
  },
  {
   "cell_type": "code",
   "execution_count": 31,
   "metadata": {},
   "outputs": [
    {
     "data": {
      "text/plain": [
       "array([1536., 1514., 1507., 1487., 1497.])"
      ]
     },
     "execution_count": 31,
     "metadata": {},
     "output_type": "execute_result"
    }
   ],
   "source": [
    "#- 8 marks / 100 (total 48 so far)\n",
    "white_counts = np.zeros(10000)\n",
    "for i in np.arange(10000):\n",
    "    randoms = np.random.uniform(0, 1, n_valid_eth)\n",
    "    wb_incidents = np.count_nonzero(randoms < 0.792)\n",
    "    white_counts[i] = wb_incidents\n",
    "# Show the first five counts in white_counts\n",
    "white_counts[:5]"
   ]
  },
  {
   "cell_type": "code",
   "execution_count": 32,
   "metadata": {},
   "outputs": [
    {
     "name": "stdout",
     "output_type": "stream",
     "text": [
      "~~~~~~~~~~~~~~~~~~~~~~~~~~~~~~~~~~~~~~~~~~~~~~~~~~~~~~~~~~~~~~~~~~~~~\n",
      "Running tests\n",
      "\n",
      "---------------------------------------------------------------------\n",
      "Test summary\n",
      "    Passed: 5\n",
      "    Failed: 0\n",
      "[ooooooooook] 100.0% passed\n",
      "\n"
     ]
    }
   ],
   "source": [
    "# Check you are on the right track.\n",
    "_ = ok.grade('q_13_white_counts')"
   ]
  },
  {
   "cell_type": "markdown",
   "metadata": {},
   "source": [
    "You now have an array with 10000 values, where each value is the number of White British people in one simulation.\n",
    "\n",
    "Plot a histogram of this array to show the spread of these counts. Our\n",
    "simulation means that these counts have come about by random sampling.\n",
    "\n",
    "Check your other notebooks for inspiration on the function to call, to plot a histogram."
   ]
  },
  {
   "cell_type": "code",
   "execution_count": 33,
   "metadata": {},
   "outputs": [
    {
     "data": {
      "text/plain": [
       "(array([  20.,  105.,  579., 1695., 2963., 2744., 1448.,  397.,   43.,\n",
       "           6.]),\n",
       " array([1426., 1440., 1454., 1468., 1482., 1496., 1510., 1524., 1538.,\n",
       "        1552., 1566.]),\n",
       " <a list of 10 Patch objects>)"
      ]
     },
     "execution_count": 33,
     "metadata": {},
     "output_type": "execute_result"
    },
    {
     "data": {
      "image/png": "[encoded data removed]",
      "text/plain": [
       "<Figure size 432x288 with 1 Axes>"
      ]
     },
     "metadata": {
      "needs_background": "light"
     },
     "output_type": "display_data"
    }
   ],
   "source": [
    "#- Show a histogram of the counts in the \"white_count\" array.\n",
    "#- 2 marks / 100 (total 50 so far)\n",
    "plt.hist(white_counts)"
   ]
  },
  {
   "cell_type": "markdown",
   "metadata": {},
   "source": [
    "Looking at this histogram, how likely is it, that the count we observed above\n",
    "for the number of \"White British\" people stopped, could have come about under\n",
    "the assumptions of our model?\n",
    "\n",
    "Assign either 1, 2, 3, 4, or 5 to the name `likely_no_bias` below.\n",
    "\n",
    "1. Reasonably likely.\n",
    "2. Fairly unlikely, but not unlikely enough to be surprising.\n",
    "3. Unlikely, but we still cannot be confident the model is incorrect.\n",
    "4. Highly unlikely, we have strong evidence the model is incorrect.\n",
    "5. The observed result is impossible given the model assuming no difference."
   ]
  },
  {
   "cell_type": "code",
   "execution_count": 34,
   "metadata": {},
   "outputs": [],
   "source": [
    "#- 5 marks / 100 (total 55 so far)\n",
    "likely_no_bias = 5"
   ]
  },
  {
   "cell_type": "markdown",
   "metadata": {},
   "source": [
    "The next cell checks that your answer above is in the correct format. This\n",
    "test *does not* check that you answered correctly; only that you assigned a\n",
    "number successfully in the multiple-choice answer cell."
   ]
  },
  {
   "cell_type": "code",
   "execution_count": 35,
   "metadata": {},
   "outputs": [
    {
     "name": "stdout",
     "output_type": "stream",
     "text": [
      "~~~~~~~~~~~~~~~~~~~~~~~~~~~~~~~~~~~~~~~~~~~~~~~~~~~~~~~~~~~~~~~~~~~~~\n",
      "Running tests\n",
      "\n",
      "---------------------------------------------------------------------\n",
      "Test summary\n",
      "    Passed: 3\n",
      "    Failed: 0\n",
      "[ooooooooook] 100.0% passed\n",
      "\n"
     ]
    }
   ],
   "source": [
    "_ = ok.grade('q_14_1_no_bias')"
   ]
  },
  {
   "cell_type": "markdown",
   "metadata": {},
   "source": [
    "## Are arrests biased?"
   ]
  },
  {
   "cell_type": "markdown",
   "metadata": {},
   "source": [
    "We are suspicious that the police may be more likely to stop a not-white person, but, if they do stop them, are they more likely to arrest them?  Do white people get off with a caution or no action more often than people who are not white?\n",
    "\n",
    "The `stop_search` data frame also has a column `Outcome` that gives\n",
    "information on what happened after the stop and search.\n",
    "\n",
    "Make a new variable `outcomes` that has the values from the \"Outcome\" column\n",
    "of `stop_search`."
   ]
  },
  {
   "cell_type": "code",
   "execution_count": 36,
   "metadata": {},
   "outputs": [
    {
     "data": {
      "text/plain": [
       "0    A no further action disposal\n",
       "1    A no further action disposal\n",
       "2    A no further action disposal\n",
       "3    A no further action disposal\n",
       "4    A no further action disposal\n",
       "Name: Outcome, dtype: object"
      ]
     },
     "execution_count": 36,
     "metadata": {},
     "output_type": "execute_result"
    }
   ],
   "source": [
    "#- 2 marks / 100 (total 57 so far)\n",
    "outcomes = stop_search['Outcome']\n",
    "# Show the first five values in outcomes\n",
    "outcomes.head()"
   ]
  },
  {
   "cell_type": "code",
   "execution_count": 37,
   "metadata": {},
   "outputs": [
    {
     "name": "stdout",
     "output_type": "stream",
     "text": [
      "~~~~~~~~~~~~~~~~~~~~~~~~~~~~~~~~~~~~~~~~~~~~~~~~~~~~~~~~~~~~~~~~~~~~~\n",
      "Running tests\n",
      "\n",
      "---------------------------------------------------------------------\n",
      "Test summary\n",
      "    Passed: 3\n",
      "    Failed: 0\n",
      "[ooooooooook] 100.0% passed\n",
      "\n"
     ]
    }
   ],
   "source": [
    "# Check you are on the right track.\n",
    "_ = ok.grade('q_15_outcomes')"
   ]
  },
  {
   "cell_type": "markdown",
   "metadata": {},
   "source": [
    "As before, it is useful to have a look at the unique values in `outcomes`, and\n",
    "the counts of the number of times each value appears.\n",
    "\n",
    "Calculate and store the unique values and counts for outcomes in the variable\n",
    "`outcomes_counts`."
   ]
  },
  {
   "cell_type": "code",
   "execution_count": 38,
   "metadata": {},
   "outputs": [
    {
     "data": {
      "text/plain": [
       "A no further action disposal    1443\n",
       "Arrest                           257\n",
       "Khat or Cannabis warning          94\n",
       "Penalty Notice for Disorder       24\n",
       "Community resolution              22\n",
       "Name: Outcome, dtype: int64"
      ]
     },
     "execution_count": 38,
     "metadata": {},
     "output_type": "execute_result"
    }
   ],
   "source": [
    "#- 2 marks / 100 (total 59 so far)\n",
    "outcomes_counts = outcomes.value_counts()\n",
    "# Show the first five values in outcomes_counts\n",
    "outcomes_counts.head()"
   ]
  },
  {
   "cell_type": "code",
   "execution_count": 39,
   "metadata": {},
   "outputs": [
    {
     "name": "stdout",
     "output_type": "stream",
     "text": [
      "~~~~~~~~~~~~~~~~~~~~~~~~~~~~~~~~~~~~~~~~~~~~~~~~~~~~~~~~~~~~~~~~~~~~~\n",
      "Running tests\n",
      "\n",
      "---------------------------------------------------------------------\n",
      "Test summary\n",
      "    Passed: 3\n",
      "    Failed: 0\n",
      "[ooooooooook] 100.0% passed\n",
      "\n"
     ]
    }
   ],
   "source": [
    "# Check you are on the right track.\n",
    "_ = ok.grade('q_16_outcomes_counts')"
   ]
  },
  {
   "cell_type": "markdown",
   "metadata": {},
   "source": [
    "We want to find which of these outcomes correspond to a White British person, and which do not.  To do this, we need to look again at the `recoded_eth` series we calculated above.\n",
    "\n",
    "Make a Boolean series `is_white` that has True in positions corresponding to \"White British\" in `recoded_eth` and False otherwise."
   ]
  },
  {
   "cell_type": "code",
   "execution_count": 40,
   "metadata": {},
   "outputs": [
    {
     "data": {
      "text/plain": [
       "0     True\n",
       "1     True\n",
       "2     True\n",
       "3    False\n",
       "4     True\n",
       "Name: Self-defined ethnicity, dtype: bool"
      ]
     },
     "execution_count": 40,
     "metadata": {},
     "output_type": "execute_result"
    }
   ],
   "source": [
    "#- 2 marks / 100 (total 61 so far)\n",
    "is_white = recoded_eth == 'White British'\n",
    "# Show the first five values of is_white\n",
    "is_white.head()"
   ]
  },
  {
   "cell_type": "code",
   "execution_count": 41,
   "metadata": {},
   "outputs": [
    {
     "name": "stdout",
     "output_type": "stream",
     "text": [
      "~~~~~~~~~~~~~~~~~~~~~~~~~~~~~~~~~~~~~~~~~~~~~~~~~~~~~~~~~~~~~~~~~~~~~\n",
      "Running tests\n",
      "\n",
      "---------------------------------------------------------------------\n",
      "Test summary\n",
      "    Passed: 3\n",
      "    Failed: 0\n",
      "[ooooooooook] 100.0% passed\n",
      "\n"
     ]
    }
   ],
   "source": [
    "# Check you are on the right track.\n",
    "_ = ok.grade('q_17_is_white')"
   ]
  },
  {
   "cell_type": "markdown",
   "metadata": {},
   "source": [
    "Calculate the number of \"White British\" elements in `recoded_eth`.  Store in the variable `n_white`."
   ]
  },
  {
   "cell_type": "code",
   "execution_count": 42,
   "metadata": {},
   "outputs": [
    {
     "data": {
      "text/plain": [
       "692"
      ]
     },
     "execution_count": 42,
     "metadata": {},
     "output_type": "execute_result"
    }
   ],
   "source": [
    "#- 2 marks / 100 (total 63 so far)\n",
    "n_white = np.count_nonzero(is_white)\n",
    "n_white"
   ]
  },
  {
   "cell_type": "code",
   "execution_count": 43,
   "metadata": {},
   "outputs": [
    {
     "name": "stdout",
     "output_type": "stream",
     "text": [
      "~~~~~~~~~~~~~~~~~~~~~~~~~~~~~~~~~~~~~~~~~~~~~~~~~~~~~~~~~~~~~~~~~~~~~\n",
      "Running tests\n",
      "\n",
      "---------------------------------------------------------------------\n",
      "Test summary\n",
      "    Passed: 2\n",
      "    Failed: 0\n",
      "[ooooooooook] 100.0% passed\n",
      "\n"
     ]
    }
   ],
   "source": [
    "# Check you are on the right track.\n",
    "_ = ok.grade('q_18_n_white')"
   ]
  },
  {
   "cell_type": "markdown",
   "metadata": {},
   "source": [
    "Select the values in `outcomes` that correspond to \"White British\" in `recoded_eth`.  Store in the variable `white_outcomes`."
   ]
  },
  {
   "cell_type": "code",
   "execution_count": 44,
   "metadata": {},
   "outputs": [
    {
     "data": {
      "text/plain": [
       "0    A no further action disposal\n",
       "1    A no further action disposal\n",
       "2    A no further action disposal\n",
       "4    A no further action disposal\n",
       "5    A no further action disposal\n",
       "Name: Outcome, dtype: object"
      ]
     },
     "execution_count": 44,
     "metadata": {},
     "output_type": "execute_result"
    }
   ],
   "source": [
    "#- Make a new variable \"white_outcomes\" that has the result of\n",
    "#- selecting \"outcomes\" values that correspond to White British people who\n",
    "#- were stopped and searched.\n",
    "#- 2 marks / 100 (total 65 so far)\n",
    "white_outcomes = outcomes[is_white]\n",
    "white_outcomes.head()"
   ]
  },
  {
   "cell_type": "code",
   "execution_count": 45,
   "metadata": {},
   "outputs": [
    {
     "name": "stdout",
     "output_type": "stream",
     "text": [
      "~~~~~~~~~~~~~~~~~~~~~~~~~~~~~~~~~~~~~~~~~~~~~~~~~~~~~~~~~~~~~~~~~~~~~\n",
      "Running tests\n",
      "\n",
      "---------------------------------------------------------------------\n",
      "Test summary\n",
      "    Passed: 3\n",
      "    Failed: 0\n",
      "[ooooooooook] 100.0% passed\n",
      "\n"
     ]
    }
   ],
   "source": [
    "# Check you are on the right track.\n",
    "_ = ok.grade('q_19_white_outcomes')"
   ]
  },
  {
   "cell_type": "markdown",
   "metadata": {},
   "source": [
    "We have previously seen the breakdown of unique outcomes, and counts of these\n",
    "outcomes, for the whole `outcomes` series.  Now do the same to show the unique\n",
    "values, and their counts, for the `white_outcomes` series."
   ]
  },
  {
   "cell_type": "code",
   "execution_count": 46,
   "metadata": {},
   "outputs": [
    {
     "data": {
      "text/plain": [
       "A no further action disposal    498\n",
       "Arrest                           97\n",
       "Khat or Cannabis warning         36\n",
       "Community resolution              8\n",
       "Penalty Notice for Disorder       6\n",
       "Summons / charged by post         2\n",
       "Name: Outcome, dtype: int64"
      ]
     },
     "execution_count": 46,
     "metadata": {},
     "output_type": "execute_result"
    }
   ],
   "source": [
    "#- Calculate the unique values and counts of the different outcomes, for\n",
    "#- White British people who were stopped and searched.\n",
    "#- 2 marks / 100 (total 67 so far)\n",
    "white_outcomes_counts = white_outcomes.value_counts()\n",
    "white_outcomes_counts"
   ]
  },
  {
   "cell_type": "code",
   "execution_count": 47,
   "metadata": {},
   "outputs": [
    {
     "name": "stdout",
     "output_type": "stream",
     "text": [
      "~~~~~~~~~~~~~~~~~~~~~~~~~~~~~~~~~~~~~~~~~~~~~~~~~~~~~~~~~~~~~~~~~~~~~\n",
      "Running tests\n",
      "\n",
      "---------------------------------------------------------------------\n",
      "Test summary\n",
      "    Passed: 3\n",
      "    Failed: 0\n",
      "[ooooooooook] 100.0% passed\n",
      "\n"
     ]
    }
   ],
   "source": [
    "# Check you are on the right track.\n",
    "_ = ok.grade('q_20_white_outcomes_counts')"
   ]
  },
  {
   "cell_type": "markdown",
   "metadata": {},
   "source": [
    "Calculate the proportion of stopped White British people that were arrested.  Don't write in the numbers you've found above, use code to calculate the number of White British people who were arrested, and the total number of White British People with valid outcomes.\n",
    "\n",
    "*Hint 1* - remember that some values will be missing.\n",
    "\n",
    "*Hint 2* - one option is to calculate a new Boolean Series on the way to your solution."
   ]
  },
  {
   "cell_type": "code",
   "execution_count": 48,
   "metadata": {},
   "outputs": [
    {
     "data": {
      "text/plain": [
       "0.14017341040462428"
      ]
     },
     "execution_count": 48,
     "metadata": {},
     "output_type": "execute_result"
    }
   ],
   "source": [
    "#- 5 marks / 100 (total 72 so far)\n",
    "white_arrested = white_outcomes == 'Arrest'\n",
    "\n",
    "white_arrested_p = sum(white_arrested) / len(white_outcomes)\n",
    "white_arrested_p"
   ]
  },
  {
   "cell_type": "code",
   "execution_count": 49,
   "metadata": {
    "lines_to_next_cell": 2
   },
   "outputs": [
    {
     "name": "stdout",
     "output_type": "stream",
     "text": [
      "~~~~~~~~~~~~~~~~~~~~~~~~~~~~~~~~~~~~~~~~~~~~~~~~~~~~~~~~~~~~~~~~~~~~~\n",
      "Running tests\n",
      "\n",
      "---------------------------------------------------------------------\n",
      "Test summary\n",
      "    Passed: 3\n",
      "    Failed: 0\n",
      "[ooooooooook] 100.0% passed\n",
      "\n"
     ]
    }
   ],
   "source": [
    "# Check you are on the right track.\n",
    "_ = ok.grade('q_20_1_white_arrested_p')"
   ]
  },
  {
   "cell_type": "markdown",
   "metadata": {},
   "source": [
    "We know the frequencies of different outcomes for White British people; we\n",
    "would like to calculate the same information for not-white people.\n",
    "\n",
    "First we need a Series that has `True` at positions corresponding to not-white\n",
    "people in `recoded_eth`, and `False` otherwise."
   ]
  },
  {
   "cell_type": "code",
   "execution_count": 50,
   "metadata": {},
   "outputs": [
    {
     "data": {
      "text/plain": [
       "0    False\n",
       "1    False\n",
       "2    False\n",
       "3     True\n",
       "4    False\n",
       "Name: Self-defined ethnicity, dtype: bool"
      ]
     },
     "execution_count": 50,
     "metadata": {},
     "output_type": "execute_result"
    }
   ],
   "source": [
    "#- 3 marks / 100 (total 75 so far)\n",
    "is_not_white = recoded_eth != 'White British'\n",
    "# Show the first five values of is_not_white\n",
    "is_not_white.head()"
   ]
  },
  {
   "cell_type": "code",
   "execution_count": 51,
   "metadata": {},
   "outputs": [
    {
     "name": "stdout",
     "output_type": "stream",
     "text": [
      "~~~~~~~~~~~~~~~~~~~~~~~~~~~~~~~~~~~~~~~~~~~~~~~~~~~~~~~~~~~~~~~~~~~~~\n",
      "Running tests\n",
      "\n",
      "---------------------------------------------------------------------\n",
      "Test summary\n",
      "    Passed: 3\n",
      "    Failed: 0\n",
      "[ooooooooook] 100.0% passed\n",
      "\n"
     ]
    }
   ],
   "source": [
    "# Check you are on the right track.\n",
    "_ = ok.grade('q_21_is_not_white')"
   ]
  },
  {
   "cell_type": "markdown",
   "metadata": {},
   "source": [
    "Next, we select the outcomes corresponding to the not-white people."
   ]
  },
  {
   "cell_type": "code",
   "execution_count": 52,
   "metadata": {},
   "outputs": [
    {
     "data": {
      "text/plain": [
       "3     A no further action disposal\n",
       "9     A no further action disposal\n",
       "10                          Arrest\n",
       "11    A no further action disposal\n",
       "12    A no further action disposal\n",
       "Name: Outcome, dtype: object"
      ]
     },
     "execution_count": 52,
     "metadata": {},
     "output_type": "execute_result"
    }
   ],
   "source": [
    "#- 2 marks / 100 (total 77 so far)\n",
    "not_white_outcomes = outcomes[is_not_white]\n",
    "not_white_outcomes.head()"
   ]
  },
  {
   "cell_type": "code",
   "execution_count": 53,
   "metadata": {},
   "outputs": [
    {
     "name": "stdout",
     "output_type": "stream",
     "text": [
      "~~~~~~~~~~~~~~~~~~~~~~~~~~~~~~~~~~~~~~~~~~~~~~~~~~~~~~~~~~~~~~~~~~~~~\n",
      "Running tests\n",
      "\n",
      "---------------------------------------------------------------------\n",
      "Test summary\n",
      "    Passed: 3\n",
      "    Failed: 0\n",
      "[ooooooooook] 100.0% passed\n",
      "\n"
     ]
    }
   ],
   "source": [
    "# Check you are on the right track.\n",
    "_ = ok.grade('q_22_not_white_outcomes')"
   ]
  },
  {
   "cell_type": "markdown",
   "metadata": {},
   "source": [
    "Show the corresponding unique values and their counts for the outcomes\n",
    "corresponding to the not-white people."
   ]
  },
  {
   "cell_type": "code",
   "execution_count": 54,
   "metadata": {},
   "outputs": [
    {
     "data": {
      "text/plain": [
       "A no further action disposal       945\n",
       "Arrest                             160\n",
       "Khat or Cannabis warning            58\n",
       "Penalty Notice for Disorder         18\n",
       "Community resolution                14\n",
       "Caution (simple or conditional)      4\n",
       "Summons / charged by post            2\n",
       "Name: Outcome, dtype: int64"
      ]
     },
     "execution_count": 54,
     "metadata": {},
     "output_type": "execute_result"
    }
   ],
   "source": [
    "#- 2 marks / 100 (total 79 so far)\n",
    "not_white_outcomes_counts = not_white_outcomes.value_counts()\n",
    "not_white_outcomes_counts"
   ]
  },
  {
   "cell_type": "code",
   "execution_count": 55,
   "metadata": {},
   "outputs": [
    {
     "name": "stdout",
     "output_type": "stream",
     "text": [
      "~~~~~~~~~~~~~~~~~~~~~~~~~~~~~~~~~~~~~~~~~~~~~~~~~~~~~~~~~~~~~~~~~~~~~\n",
      "Running tests\n",
      "\n",
      "---------------------------------------------------------------------\n",
      "Test summary\n",
      "    Passed: 3\n",
      "    Failed: 0\n",
      "[ooooooooook] 100.0% passed\n",
      "\n"
     ]
    }
   ],
   "source": [
    "# Check you are on the right track.\n",
    "_ = ok.grade('q_23_not_white_outcomes_counts')"
   ]
  },
  {
   "cell_type": "markdown",
   "metadata": {},
   "source": [
    "Calculate the proportion of not-white people who were arrested after they were\n",
    "stopped."
   ]
  },
  {
   "cell_type": "code",
   "execution_count": 56,
   "metadata": {},
   "outputs": [
    {
     "data": {
      "text/plain": [
       "0.12241775057383321"
      ]
     },
     "execution_count": 56,
     "metadata": {},
     "output_type": "execute_result"
    }
   ],
   "source": [
    "#- 3 marks / 100 (total 82 so far)\n",
    "not_white_arrested = not_white_outcomes == 'Arrest'\n",
    "\n",
    "not_white_arrested_p = sum(not_white_arrested) / len(not_white_outcomes)\n",
    "not_white_arrested_p"
   ]
  },
  {
   "cell_type": "code",
   "execution_count": 57,
   "metadata": {},
   "outputs": [
    {
     "name": "stdout",
     "output_type": "stream",
     "text": [
      "~~~~~~~~~~~~~~~~~~~~~~~~~~~~~~~~~~~~~~~~~~~~~~~~~~~~~~~~~~~~~~~~~~~~~\n",
      "Running tests\n",
      "\n",
      "---------------------------------------------------------------------\n",
      "Test summary\n",
      "    Passed: 3\n",
      "    Failed: 0\n",
      "[ooooooooook] 100.0% passed\n",
      "\n"
     ]
    }
   ],
   "source": [
    "# Check you are on the right track.\n",
    "_ = ok.grade('q_23_1_not_white_arrested_p')"
   ]
  },
  {
   "cell_type": "markdown",
   "metadata": {},
   "source": [
    "Now we will try and work out whether there is likely to be a difference between the arrest / don't arrest decision for White British people compared to not-White British people.\n",
    "\n",
    "One index of difference is the difference we observe in the probability of being arrested."
   ]
  },
  {
   "cell_type": "code",
   "execution_count": 58,
   "metadata": {},
   "outputs": [
    {
     "data": {
      "text/plain": [
       "0.017755659830791068"
      ]
     },
     "execution_count": 58,
     "metadata": {},
     "output_type": "execute_result"
    }
   ],
   "source": [
    "p_diff = white_arrested_p - not_white_arrested_p\n",
    "p_diff"
   ]
  },
  {
   "cell_type": "markdown",
   "metadata": {},
   "source": [
    "Now we need to formulate a model of these data where there is no difference in the likelihood of arrest for the White / not-White groups.\n",
    "\n",
    "We first need to calculate the number of White British and not-White British people who have valid outcomes recorded.\n",
    "\n",
    "The next cell makes a new data frame that has only the valid (not-missing) observations of `recoded_eth` and `outcomes`.  Don't worry about the details, just execute this cell."
   ]
  },
  {
   "cell_type": "code",
   "execution_count": 59,
   "metadata": {},
   "outputs": [
    {
     "data": {
      "text/html": [
       "<div>\n",
       "<style scoped>\n",
       "    .dataframe tbody tr th:only-of-type {\n",
       "        vertical-align: middle;\n",
       "    }\n",
       "\n",
       "    .dataframe tbody tr th {\n",
       "        vertical-align: top;\n",
       "    }\n",
       "\n",
       "    .dataframe thead th {\n",
       "        text-align: right;\n",
       "    }\n",
       "</style>\n",
       "<table border=\"1\" class=\"dataframe\">\n",
       "  <thead>\n",
       "    <tr style=\"text-align: right;\">\n",
       "      <th></th>\n",
       "      <th>ethnicity</th>\n",
       "      <th>outcome</th>\n",
       "    </tr>\n",
       "  </thead>\n",
       "  <tbody>\n",
       "    <tr>\n",
       "      <td>0</td>\n",
       "      <td>White British</td>\n",
       "      <td>A no further action disposal</td>\n",
       "    </tr>\n",
       "    <tr>\n",
       "      <td>1</td>\n",
       "      <td>White British</td>\n",
       "      <td>A no further action disposal</td>\n",
       "    </tr>\n",
       "    <tr>\n",
       "      <td>2</td>\n",
       "      <td>White British</td>\n",
       "      <td>A no further action disposal</td>\n",
       "    </tr>\n",
       "    <tr>\n",
       "      <td>3</td>\n",
       "      <td>Other</td>\n",
       "      <td>A no further action disposal</td>\n",
       "    </tr>\n",
       "    <tr>\n",
       "      <td>4</td>\n",
       "      <td>White British</td>\n",
       "      <td>A no further action disposal</td>\n",
       "    </tr>\n",
       "  </tbody>\n",
       "</table>\n",
       "</div>"
      ],
      "text/plain": [
       "       ethnicity                       outcome\n",
       "0  White British  A no further action disposal\n",
       "1  White British  A no further action disposal\n",
       "2  White British  A no further action disposal\n",
       "3          Other  A no further action disposal\n",
       "4  White British  A no further action disposal"
      ]
     },
     "execution_count": 59,
     "metadata": {},
     "output_type": "execute_result"
    }
   ],
   "source": [
    "# Just run this cell.\n",
    "eth_outcome = pd.DataFrame()\n",
    "eth_outcome[\"ethnicity\"] = recoded_eth\n",
    "eth_outcome[\"outcome\"] = outcomes\n",
    "# Drop any missing values in either column\n",
    "eth_outcome = eth_outcome.dropna()\n",
    "eth_outcome.head()"
   ]
  },
  {
   "cell_type": "markdown",
   "metadata": {},
   "source": [
    "The number of White British people in this table:"
   ]
  },
  {
   "cell_type": "code",
   "execution_count": 60,
   "metadata": {},
   "outputs": [
    {
     "data": {
      "text/plain": [
       "647"
      ]
     },
     "execution_count": 60,
     "metadata": {},
     "output_type": "execute_result"
    }
   ],
   "source": [
    "n_wb = np.count_nonzero(eth_outcome['ethnicity'] == 'White British')\n",
    "n_wb"
   ]
  },
  {
   "cell_type": "markdown",
   "metadata": {},
   "source": [
    "The number of not-White British people in this table:"
   ]
  },
  {
   "cell_type": "code",
   "execution_count": 61,
   "metadata": {},
   "outputs": [
    {
     "data": {
      "text/plain": [
       "1102"
      ]
     },
     "execution_count": 61,
     "metadata": {},
     "output_type": "execute_result"
    }
   ],
   "source": [
    "n_nwb = np.count_nonzero(eth_outcome['ethnicity'] != 'White British')\n",
    "n_nwb"
   ]
  },
  {
   "cell_type": "markdown",
   "metadata": {},
   "source": [
    "The total number of arrests from this table:"
   ]
  },
  {
   "cell_type": "code",
   "execution_count": 62,
   "metadata": {},
   "outputs": [
    {
     "data": {
      "text/plain": [
       "241"
      ]
     },
     "execution_count": 62,
     "metadata": {},
     "output_type": "execute_result"
    }
   ],
   "source": [
    "n_arrests = np.count_nonzero(eth_outcome['outcome'] == 'Arrest')\n",
    "n_arrests"
   ]
  },
  {
   "cell_type": "markdown",
   "metadata": {},
   "source": [
    "The overall probability of being arrested (regardless of ethnicity):"
   ]
  },
  {
   "cell_type": "code",
   "execution_count": 63,
   "metadata": {},
   "outputs": [
    {
     "data": {
      "text/plain": [
       "0.1377930245854774"
      ]
     },
     "execution_count": 63,
     "metadata": {},
     "output_type": "execute_result"
    }
   ],
   "source": [
    "p_arrest = n_arrests / len(eth_outcome)\n",
    "p_arrest"
   ]
  },
  {
   "cell_type": "markdown",
   "metadata": {},
   "source": [
    "Our model is that the outcome for any given stop and search incident is random.\n",
    "That is, for any given stop and search there is a `p_arrest` probability of\n",
    "being arrested.\n",
    "\n",
    "Here I simulate the White British outcomes by taking `n_wb` random numbers, checking whether they are less than `p_arrest`, and taking True to mean a simulated arrest."
   ]
  },
  {
   "cell_type": "code",
   "execution_count": 64,
   "metadata": {},
   "outputs": [
    {
     "data": {
      "text/plain": [
       "99"
      ]
     },
     "execution_count": 64,
     "metadata": {},
     "output_type": "execute_result"
    }
   ],
   "source": [
    "wb_randoms = np.random.uniform(0, 1, n_wb)\n",
    "n_wb_arrests = np.count_nonzero(wb_randoms < p_arrest)\n",
    "n_wb_arrests"
   ]
  },
  {
   "cell_type": "markdown",
   "metadata": {},
   "source": [
    "I can do the same for the not-White British, assuming the same probability of arrest:"
   ]
  },
  {
   "cell_type": "code",
   "execution_count": 65,
   "metadata": {},
   "outputs": [
    {
     "data": {
      "text/plain": [
       "157"
      ]
     },
     "execution_count": 65,
     "metadata": {},
     "output_type": "execute_result"
    }
   ],
   "source": [
    "nwb_randoms = np.random.uniform(0, 1, n_nwb)\n",
    "n_nwb_arrests = np.count_nonzero(nwb_randoms < p_arrest)\n",
    "n_nwb_arrests"
   ]
  },
  {
   "cell_type": "markdown",
   "metadata": {},
   "source": [
    "Now your turn.  Do 10000 simulations, where each simulation simulates arrests for the White British group, the not White-British group, calculates the proportions for each, and finally calculates the difference in proportions, storing these differences in a variable `p_differences`:"
   ]
  },
  {
   "cell_type": "code",
   "execution_count": 66,
   "metadata": {},
   "outputs": [
    {
     "data": {
      "text/plain": [
       "array([ 0.04451931, -0.01646718, -0.0209048 ,  0.01763549,  0.00980794])"
      ]
     },
     "execution_count": 66,
     "metadata": {},
     "output_type": "execute_result"
    }
   ],
   "source": [
    "#- 15 marks / 100 (total 97 so far)\n",
    "p_differences = np.zeros(10000)\n",
    "for i in np.arange(10000):\n",
    "    wb_randoms = np.random.uniform(0, 1, n_wb)\n",
    "    n_wb_arrests = np.count_nonzero(wb_randoms < p_arrest)\n",
    "    nwb_randoms = np.random.uniform(0, 1, n_nwb)\n",
    "    n_nwb_arrests = np.count_nonzero(nwb_randoms < p_arrest)\n",
    "    p_differences[i] = (n_wb_arrests/n_wb) - (n_nwb_arrests/n_nwb) \n",
    "\n",
    "# Show the first five differences\n",
    "p_differences[:5]"
   ]
  },
  {
   "cell_type": "code",
   "execution_count": 67,
   "metadata": {},
   "outputs": [
    {
     "name": "stdout",
     "output_type": "stream",
     "text": [
      "~~~~~~~~~~~~~~~~~~~~~~~~~~~~~~~~~~~~~~~~~~~~~~~~~~~~~~~~~~~~~~~~~~~~~\n",
      "Running tests\n",
      "\n",
      "---------------------------------------------------------------------\n",
      "Test summary\n",
      "    Passed: 4\n",
      "    Failed: 0\n",
      "[ooooooooook] 100.0% passed\n",
      "\n"
     ]
    }
   ],
   "source": [
    "# Test you are on the right track.\n",
    "_ = ok.grade('q_23_2_p_differences')"
   ]
  },
  {
   "cell_type": "markdown",
   "metadata": {},
   "source": [
    "You might want to do a histogram of these differences to help you answer the question below:"
   ]
  },
  {
   "cell_type": "code",
   "execution_count": 68,
   "metadata": {},
   "outputs": [
    {
     "data": {
      "text/plain": [
       "(array([  10.,  103.,  533., 1581., 2744., 2741., 1600.,  561.,  110.,\n",
       "          17.]),\n",
       " array([-6.42221393e-02, -5.13756076e-02, -3.85290760e-02, -2.56825443e-02,\n",
       "        -1.28360126e-02,  1.05190226e-05,  1.28570507e-02,  2.57035824e-02,\n",
       "         3.85501140e-02,  5.13966457e-02,  6.42431774e-02]),\n",
       " <a list of 10 Patch objects>)"
      ]
     },
     "execution_count": 68,
     "metadata": {},
     "output_type": "execute_result"
    },
    {
     "data": {
      "image/png": "[encoded data removed]",
      "text/plain": [
       "<Figure size 432x288 with 1 Axes>"
      ]
     },
     "metadata": {
      "needs_background": "light"
     },
     "output_type": "display_data"
    }
   ],
   "source": [
    "# Code to plot a histogram of p_differences\n",
    "plt.hist(p_differences)"
   ]
  },
  {
   "cell_type": "markdown",
   "metadata": {},
   "source": [
    "Based on the evidence above, how likely is it that, in the long run, \"White\n",
    "British\" people have the same chance of arrest after they are stopped and\n",
    "searched as do not-White British people?\n",
    "\n",
    "Assign either 1, 2, 3, 4, or 5 to the name `likely_outcome_same` below.\n",
    "\n",
    "1. Reasonably likely.\n",
    "2. Fairly unlikely, but not unlikely enough to be surprising.\n",
    "3. Unlikely, but we still cannot be confident the model is incorrect.\n",
    "4. Highly unlikely, we have strong evidence the model is incorrect.\n",
    "5. The observed result is impossible given the model assuming no difference."
   ]
  },
  {
   "cell_type": "code",
   "execution_count": 69,
   "metadata": {},
   "outputs": [],
   "source": [
    "#- 3 marks / 100 (total 100 so far)\n",
    "likely_outcome_same = 2"
   ]
  },
  {
   "cell_type": "markdown",
   "metadata": {},
   "source": [
    "The next cell checks that your answer above is in the correct format. This\n",
    "test *does not* check that you answered correctly; only that you assigned a\n",
    "number successfully in the multiple-choice answer cell."
   ]
  },
  {
   "cell_type": "code",
   "execution_count": 70,
   "metadata": {},
   "outputs": [
    {
     "name": "stdout",
     "output_type": "stream",
     "text": [
      "~~~~~~~~~~~~~~~~~~~~~~~~~~~~~~~~~~~~~~~~~~~~~~~~~~~~~~~~~~~~~~~~~~~~~\n",
      "Running tests\n",
      "\n",
      "---------------------------------------------------------------------\n",
      "Test summary\n",
      "    Passed: 3\n",
      "    Failed: 0\n",
      "[ooooooooook] 100.0% passed\n",
      "\n"
     ]
    }
   ],
   "source": [
    "_ = ok.grade('q_24_outcome_same')"
   ]
  },
  {
   "cell_type": "markdown",
   "metadata": {},
   "source": [
    "## Done."
   ]
  },
  {
   "cell_type": "markdown",
   "metadata": {},
   "source": [
    "Congratulations, you're done with the assignment!  Be sure to:\n",
    "\n",
    "- **run all the tests** (the next cell has a shortcut for that),\n",
    "- **Save and Checkpoint** from the `File` menu,\n",
    "\n",
    "**Remember - the tests only test that your answers are compatible with the\n",
    "right answer.  For example, they may test whether your answer is in the right\n",
    "format.  They do not test whether your answer is correct**."
   ]
  },
  {
   "cell_type": "code",
   "execution_count": 71,
   "metadata": {},
   "outputs": [
    {
     "name": "stdout",
     "output_type": "stream",
     "text": [
      "~~~~~~~~~~~~~~~~~~~~~~~~~~~~~~~~~~~~~~~~~~~~~~~~~~~~~~~~~~~~~~~~~~~~~\n",
      "Running tests\n",
      "\n",
      "---------------------------------------------------------------------\n",
      "Test summary\n",
      "    Passed: 3\n",
      "    Failed: 0\n",
      "[ooooooooook] 100.0% passed\n",
      "\n",
      "~~~~~~~~~~~~~~~~~~~~~~~~~~~~~~~~~~~~~~~~~~~~~~~~~~~~~~~~~~~~~~~~~~~~~\n",
      "Running tests\n",
      "\n",
      "---------------------------------------------------------------------\n",
      "Test summary\n",
      "    Passed: 3\n",
      "    Failed: 0\n",
      "[ooooooooook] 100.0% passed\n",
      "\n",
      "~~~~~~~~~~~~~~~~~~~~~~~~~~~~~~~~~~~~~~~~~~~~~~~~~~~~~~~~~~~~~~~~~~~~~\n",
      "Running tests\n",
      "\n",
      "---------------------------------------------------------------------\n",
      "Test summary\n",
      "    Passed: 5\n",
      "    Failed: 0\n",
      "[ooooooooook] 100.0% passed\n",
      "\n",
      "~~~~~~~~~~~~~~~~~~~~~~~~~~~~~~~~~~~~~~~~~~~~~~~~~~~~~~~~~~~~~~~~~~~~~\n",
      "Running tests\n",
      "\n",
      "---------------------------------------------------------------------\n",
      "Test summary\n",
      "    Passed: 3\n",
      "    Failed: 0\n",
      "[ooooooooook] 100.0% passed\n",
      "\n",
      "~~~~~~~~~~~~~~~~~~~~~~~~~~~~~~~~~~~~~~~~~~~~~~~~~~~~~~~~~~~~~~~~~~~~~\n",
      "Running tests\n",
      "\n",
      "---------------------------------------------------------------------\n",
      "Test summary\n",
      "    Passed: 3\n",
      "    Failed: 0\n",
      "[ooooooooook] 100.0% passed\n",
      "\n",
      "~~~~~~~~~~~~~~~~~~~~~~~~~~~~~~~~~~~~~~~~~~~~~~~~~~~~~~~~~~~~~~~~~~~~~\n",
      "Running tests\n",
      "\n",
      "---------------------------------------------------------------------\n",
      "Test summary\n",
      "    Passed: 3\n",
      "    Failed: 0\n",
      "[ooooooooook] 100.0% passed\n",
      "\n",
      "~~~~~~~~~~~~~~~~~~~~~~~~~~~~~~~~~~~~~~~~~~~~~~~~~~~~~~~~~~~~~~~~~~~~~\n",
      "Running tests\n",
      "\n",
      "---------------------------------------------------------------------\n",
      "Test summary\n",
      "    Passed: 3\n",
      "    Failed: 0\n",
      "[ooooooooook] 100.0% passed\n",
      "\n",
      "~~~~~~~~~~~~~~~~~~~~~~~~~~~~~~~~~~~~~~~~~~~~~~~~~~~~~~~~~~~~~~~~~~~~~\n",
      "Running tests\n",
      "\n",
      "---------------------------------------------------------------------\n",
      "Test summary\n",
      "    Passed: 2\n",
      "    Failed: 0\n",
      "[ooooooooook] 100.0% passed\n",
      "\n",
      "~~~~~~~~~~~~~~~~~~~~~~~~~~~~~~~~~~~~~~~~~~~~~~~~~~~~~~~~~~~~~~~~~~~~~\n",
      "Running tests\n",
      "\n",
      "---------------------------------------------------------------------\n",
      "Test summary\n",
      "    Passed: 3\n",
      "    Failed: 0\n",
      "[ooooooooook] 100.0% passed\n",
      "\n",
      "~~~~~~~~~~~~~~~~~~~~~~~~~~~~~~~~~~~~~~~~~~~~~~~~~~~~~~~~~~~~~~~~~~~~~\n",
      "Running tests\n",
      "\n",
      "---------------------------------------------------------------------\n",
      "Test summary\n",
      "    Passed: 3\n",
      "    Failed: 0\n",
      "[ooooooooook] 100.0% passed\n",
      "\n",
      "~~~~~~~~~~~~~~~~~~~~~~~~~~~~~~~~~~~~~~~~~~~~~~~~~~~~~~~~~~~~~~~~~~~~~\n",
      "Running tests\n",
      "\n",
      "---------------------------------------------------------------------\n",
      "Test summary\n",
      "    Passed: 3\n",
      "    Failed: 0\n",
      "[ooooooooook] 100.0% passed\n",
      "\n",
      "~~~~~~~~~~~~~~~~~~~~~~~~~~~~~~~~~~~~~~~~~~~~~~~~~~~~~~~~~~~~~~~~~~~~~\n",
      "Running tests\n",
      "\n",
      "---------------------------------------------------------------------\n",
      "Test summary\n",
      "    Passed: 3\n",
      "    Failed: 0\n",
      "[ooooooooook] 100.0% passed\n",
      "\n",
      "~~~~~~~~~~~~~~~~~~~~~~~~~~~~~~~~~~~~~~~~~~~~~~~~~~~~~~~~~~~~~~~~~~~~~\n",
      "Running tests\n",
      "\n",
      "---------------------------------------------------------------------\n",
      "Test summary\n",
      "    Passed: 3\n",
      "    Failed: 0\n",
      "[ooooooooook] 100.0% passed\n",
      "\n",
      "~~~~~~~~~~~~~~~~~~~~~~~~~~~~~~~~~~~~~~~~~~~~~~~~~~~~~~~~~~~~~~~~~~~~~\n",
      "Running tests\n",
      "\n",
      "---------------------------------------------------------------------\n",
      "Test summary\n",
      "    Passed: 3\n",
      "    Failed: 0\n",
      "[ooooooooook] 100.0% passed\n",
      "\n",
      "~~~~~~~~~~~~~~~~~~~~~~~~~~~~~~~~~~~~~~~~~~~~~~~~~~~~~~~~~~~~~~~~~~~~~\n",
      "Running tests\n",
      "\n",
      "---------------------------------------------------------------------\n",
      "Test summary\n",
      "    Passed: 3\n",
      "    Failed: 0\n",
      "[ooooooooook] 100.0% passed\n",
      "\n",
      "~~~~~~~~~~~~~~~~~~~~~~~~~~~~~~~~~~~~~~~~~~~~~~~~~~~~~~~~~~~~~~~~~~~~~\n",
      "Running tests\n",
      "\n",
      "---------------------------------------------------------------------\n",
      "Test summary\n",
      "    Passed: 4\n",
      "    Failed: 0\n",
      "[ooooooooook] 100.0% passed\n",
      "\n",
      "~~~~~~~~~~~~~~~~~~~~~~~~~~~~~~~~~~~~~~~~~~~~~~~~~~~~~~~~~~~~~~~~~~~~~\n",
      "Running tests\n",
      "\n",
      "---------------------------------------------------------------------\n",
      "Test summary\n",
      "    Passed: 3\n",
      "    Failed: 0\n",
      "[ooooooooook] 100.0% passed\n",
      "\n",
      "~~~~~~~~~~~~~~~~~~~~~~~~~~~~~~~~~~~~~~~~~~~~~~~~~~~~~~~~~~~~~~~~~~~~~\n",
      "Running tests\n",
      "\n",
      "---------------------------------------------------------------------\n",
      "Test summary\n",
      "    Passed: 3\n",
      "    Failed: 0\n",
      "[ooooooooook] 100.0% passed\n",
      "\n",
      "~~~~~~~~~~~~~~~~~~~~~~~~~~~~~~~~~~~~~~~~~~~~~~~~~~~~~~~~~~~~~~~~~~~~~\n",
      "Running tests\n",
      "\n",
      "---------------------------------------------------------------------\n",
      "Test summary\n",
      "    Passed: 3\n",
      "    Failed: 0\n",
      "[ooooooooook] 100.0% passed\n",
      "\n",
      "~~~~~~~~~~~~~~~~~~~~~~~~~~~~~~~~~~~~~~~~~~~~~~~~~~~~~~~~~~~~~~~~~~~~~\n",
      "Running tests\n",
      "\n",
      "---------------------------------------------------------------------\n",
      "Test summary\n",
      "    Passed: 3\n",
      "    Failed: 0\n",
      "[ooooooooook] 100.0% passed\n",
      "\n",
      "~~~~~~~~~~~~~~~~~~~~~~~~~~~~~~~~~~~~~~~~~~~~~~~~~~~~~~~~~~~~~~~~~~~~~\n",
      "Running tests\n",
      "\n",
      "---------------------------------------------------------------------\n",
      "Test summary\n",
      "    Passed: 4\n",
      "    Failed: 0\n",
      "[ooooooooook] 100.0% passed\n",
      "\n",
      "~~~~~~~~~~~~~~~~~~~~~~~~~~~~~~~~~~~~~~~~~~~~~~~~~~~~~~~~~~~~~~~~~~~~~\n",
      "Running tests\n",
      "\n",
      "---------------------------------------------------------------------\n",
      "Test summary\n",
      "    Passed: 2\n",
      "    Failed: 0\n",
      "[ooooooooook] 100.0% passed\n",
      "\n",
      "~~~~~~~~~~~~~~~~~~~~~~~~~~~~~~~~~~~~~~~~~~~~~~~~~~~~~~~~~~~~~~~~~~~~~\n",
      "Running tests\n",
      "\n",
      "---------------------------------------------------------------------\n",
      "Test summary\n",
      "    Passed: 3\n",
      "    Failed: 0\n",
      "[ooooooooook] 100.0% passed\n",
      "\n",
      "~~~~~~~~~~~~~~~~~~~~~~~~~~~~~~~~~~~~~~~~~~~~~~~~~~~~~~~~~~~~~~~~~~~~~\n",
      "Running tests\n",
      "\n",
      "---------------------------------------------------------------------\n",
      "Test summary\n",
      "    Passed: 3\n",
      "    Failed: 0\n",
      "[ooooooooook] 100.0% passed\n",
      "\n",
      "~~~~~~~~~~~~~~~~~~~~~~~~~~~~~~~~~~~~~~~~~~~~~~~~~~~~~~~~~~~~~~~~~~~~~\n",
      "Running tests\n",
      "\n",
      "---------------------------------------------------------------------\n",
      "Test summary\n",
      "    Passed: 3\n",
      "    Failed: 0\n",
      "[ooooooooook] 100.0% passed\n",
      "\n"
     ]
    }
   ],
   "source": [
    "# For your convenience, you can run this cell to run all the tests at once!\n",
    "import os\n",
    "_ = [ok.grade(q[:-3]) for q in os.listdir(\"tests\") if q.startswith('q')]"
   ]
  }
 ],
 "metadata": {
  "jupytext": {
   "split_at_heading": true,
   "text_representation": {
    "extension": ".Rmd",
    "format_name": "rmarkdown",
    "format_version": "1.1",
    "jupytext_version": "1.2.4"
   }
  },
  "kernelspec": {
   "display_name": "Python 3",
   "language": "python",
   "name": "python3"
  },
  "language_info": {
   "codemirror_mode": {
    "name": "ipython",
    "version": 3
   },
   "file_extension": ".py",
   "mimetype": "text/x-python",
   "name": "python",
   "nbconvert_exporter": "python",
   "pygments_lexer": "ipython3",
   "version": "3.7.4"
  }
 },
 "nbformat": 4,
 "nbformat_minor": 2
}
